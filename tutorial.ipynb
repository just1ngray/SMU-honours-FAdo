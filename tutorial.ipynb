{
 "cells": [
  {
   "cell_type": "code",
   "execution_count": 36,
   "source": [
    "\"\"\"Programmer's Regular Expression Parsing into FAdo\n",
    "    ^ start anchor          $ end anchor\n",
    "    . any                   [xyzA-Z] character class\n",
    "                            [^xyzA-Z] negated character class\n",
    "    * 0 or more             + 1 or more\n",
    "    {x} exactly x reps      {x,y} x to y repetitions\n",
    "    {,x} at most x reps     {x,} x or more repetitions\n",
    "\n",
    "- Anchors are replaced with @epsilon,\n",
    "- if partialMatch=True and no anchor at beginning or end, then @any* added\n",
    "\"\"\"\n",
    "\n",
    "from benchmark.convert import Converter\n",
    "converter = Converter()\n",
    "\n",
    "programmersExpression = \"[ab]+\" # <== experiment by changing this string\n",
    "re = converter.prog(programmersExpression, partialMatch=True) # default behaviour for prog(...)\n",
    "print \"partialMatch=True\"\n",
    "re.display()\n",
    "\n",
    "re = converter.prog(programmersExpression, partialMatch=False)\n",
    "print \"partialMatch=False\"\n",
    "re.display()"
   ],
   "outputs": [
    {
     "output_type": "stream",
     "name": "stdout",
     "text": [
      "partialMatch=True\n"
     ]
    },
    {
     "output_type": "display_data",
     "data": {
      "image/svg+xml": "<svg height=\"283pt\" viewBox=\"0.00 0.00 255.00 283.00\" width=\"255pt\" xmlns=\"http://www.w3.org/2000/svg\" xmlns:xlink=\"http://www.w3.org/1999/xlink\">\n<g class=\"graph\" id=\"graph0\" transform=\"scale(1 1) rotate(0) translate(4 279)\">\n<polygon fill=\"white\" points=\"-4,4 -4,-279 251,-279 251,4 -4,4\" stroke=\"transparent\"/>\n<text font-family=\"Times,serif\" font-size=\"14.00\" text-anchor=\"middle\" x=\"123.5\" y=\"-259.8\">((@any* [ab]) ([ab]* @any*))</text>\n<!-- 4590952656 -->\n<g class=\"node\" id=\"node1\">\n<title>4590952656</title>\n<ellipse cx=\"121\" cy=\"-234\" fill=\"none\" rx=\"18\" ry=\"18\" stroke=\"black\"/>\n<text font-family=\"Times,serif\" font-size=\"14.00\" text-anchor=\"middle\" x=\"121\" y=\"-230.3\">.</text>\n</g>\n<!-- 4590955600 -->\n<g class=\"node\" id=\"node2\">\n<title>4590955600</title>\n<ellipse cx=\"90\" cy=\"-162\" fill=\"none\" rx=\"18\" ry=\"18\" stroke=\"black\"/>\n<text font-family=\"Times,serif\" font-size=\"14.00\" text-anchor=\"middle\" x=\"90\" y=\"-158.3\">.</text>\n</g>\n<!-- 4590952656&#45;&gt;4590955600 -->\n<g class=\"edge\" id=\"edge8\">\n<title>4590952656-&gt;4590955600</title>\n<path d=\"M113.97,-217.12C110.16,-208.52 105.37,-197.72 101.08,-188.02\" fill=\"none\" stroke=\"black\"/>\n<polygon fill=\"black\" points=\"104.26,-186.55 97.01,-178.82 97.86,-189.38 104.26,-186.55\" stroke=\"black\"/>\n</g>\n<!-- 4588240016 -->\n<g class=\"node\" id=\"node6\">\n<title>4588240016</title>\n<ellipse cx=\"153\" cy=\"-162\" fill=\"none\" rx=\"18\" ry=\"18\" stroke=\"black\"/>\n<text font-family=\"Times,serif\" font-size=\"14.00\" text-anchor=\"middle\" x=\"153\" y=\"-158.3\">.</text>\n</g>\n<!-- 4590952656&#45;&gt;4588240016 -->\n<g class=\"edge\" id=\"edge9\">\n<title>4590952656-&gt;4588240016</title>\n<path d=\"M128.26,-217.12C132.19,-208.52 137.13,-197.72 141.56,-188.02\" fill=\"none\" stroke=\"black\"/>\n<polygon fill=\"black\" points=\"144.79,-189.37 145.77,-178.82 138.43,-186.46 144.79,-189.37\" stroke=\"black\"/>\n</g>\n<!-- 4590955408 -->\n<g class=\"node\" id=\"node3\">\n<title>4590955408</title>\n<ellipse cx=\"27\" cy=\"-90\" fill=\"none\" rx=\"18\" ry=\"18\" stroke=\"black\"/>\n<text font-family=\"Times,serif\" font-size=\"14.00\" text-anchor=\"middle\" x=\"27\" y=\"-86.3\">*</text>\n</g>\n<!-- 4590955600&#45;&gt;4590955408 -->\n<g class=\"edge\" id=\"edge2\">\n<title>4590955600-&gt;4590955408</title>\n<path d=\"M78.44,-148.16C69.32,-138.03 56.41,-123.68 45.81,-111.9\" fill=\"none\" stroke=\"black\"/>\n<polygon fill=\"black\" points=\"48.2,-109.32 38.91,-104.23 43,-114.01 48.2,-109.32\" stroke=\"black\"/>\n</g>\n<!-- 4590953360 -->\n<g class=\"node\" id=\"node5\">\n<title>4590953360</title>\n<text font-family=\"Times,serif\" font-size=\"14.00\" text-anchor=\"middle\" x=\"90\" y=\"-86.3\">[ab]</text>\n</g>\n<!-- 4590955600&#45;&gt;4590953360 -->\n<g class=\"edge\" id=\"edge3\">\n<title>4590955600-&gt;4590953360</title>\n<path d=\"M90,-143.7C90,-135.98 90,-126.71 90,-118.11\" fill=\"none\" stroke=\"black\"/>\n<polygon fill=\"black\" points=\"93.5,-118.1 90,-108.1 86.5,-118.1 93.5,-118.1\" stroke=\"black\"/>\n</g>\n<!-- 4588094288 -->\n<g class=\"node\" id=\"node4\">\n<title>4588094288</title>\n<text font-family=\"Times,serif\" font-size=\"14.00\" text-anchor=\"middle\" x=\"27\" y=\"-14.3\">@any</text>\n</g>\n<!-- 4590955408&#45;&gt;4588094288 -->\n<g class=\"edge\" id=\"edge1\">\n<title>4590955408-&gt;4588094288</title>\n<path d=\"M27,-71.7C27,-63.98 27,-54.71 27,-46.11\" fill=\"none\" stroke=\"black\"/>\n<polygon fill=\"black\" points=\"30.5,-46.1 27,-36.1 23.5,-46.1 30.5,-46.1\" stroke=\"black\"/>\n</g>\n<!-- 4588094032 -->\n<g class=\"node\" id=\"node7\">\n<title>4588094032</title>\n<ellipse cx=\"153\" cy=\"-90\" fill=\"none\" rx=\"18\" ry=\"18\" stroke=\"black\"/>\n<text font-family=\"Times,serif\" font-size=\"14.00\" text-anchor=\"middle\" x=\"153\" y=\"-86.3\">*</text>\n</g>\n<!-- 4588240016&#45;&gt;4588094032 -->\n<g class=\"edge\" id=\"edge6\">\n<title>4588240016-&gt;4588094032</title>\n<path d=\"M153,-143.7C153,-135.98 153,-126.71 153,-118.11\" fill=\"none\" stroke=\"black\"/>\n<polygon fill=\"black\" points=\"156.5,-118.1 153,-108.1 149.5,-118.1 156.5,-118.1\" stroke=\"black\"/>\n</g>\n<!-- 4588236944 -->\n<g class=\"node\" id=\"node9\">\n<title>4588236944</title>\n<ellipse cx=\"211\" cy=\"-90\" fill=\"none\" rx=\"18\" ry=\"18\" stroke=\"black\"/>\n<text font-family=\"Times,serif\" font-size=\"14.00\" text-anchor=\"middle\" x=\"211\" y=\"-86.3\">*</text>\n</g>\n<!-- 4588240016&#45;&gt;4588236944 -->\n<g class=\"edge\" id=\"edge7\">\n<title>4588240016-&gt;4588236944</title>\n<path d=\"M164.18,-147.5C172.45,-137.53 183.86,-123.75 193.35,-112.3\" fill=\"none\" stroke=\"black\"/>\n<polygon fill=\"black\" points=\"196.17,-114.39 199.85,-104.46 190.78,-109.92 196.17,-114.39\" stroke=\"black\"/>\n</g>\n<!-- 4590952848 -->\n<g class=\"node\" id=\"node8\">\n<title>4590952848</title>\n<text font-family=\"Times,serif\" font-size=\"14.00\" text-anchor=\"middle\" x=\"148\" y=\"-14.3\">[ab]</text>\n</g>\n<!-- 4588094032&#45;&gt;4590952848 -->\n<g class=\"edge\" id=\"edge4\">\n<title>4588094032-&gt;4590952848</title>\n<path d=\"M151.76,-71.7C151.21,-63.98 150.55,-54.71 149.94,-46.11\" fill=\"none\" stroke=\"black\"/>\n<polygon fill=\"black\" points=\"153.43,-45.83 149.22,-36.1 146.44,-46.33 153.43,-45.83\" stroke=\"black\"/>\n</g>\n<!-- 4590954000 -->\n<g class=\"node\" id=\"node10\">\n<title>4590954000</title>\n<text font-family=\"Times,serif\" font-size=\"14.00\" text-anchor=\"middle\" x=\"220\" y=\"-14.3\">@any</text>\n</g>\n<!-- 4588236944&#45;&gt;4590954000 -->\n<g class=\"edge\" id=\"edge5\">\n<title>4588236944-&gt;4590954000</title>\n<path d=\"M213.18,-72.05C214.17,-64.35 215.37,-55.03 216.48,-46.36\" fill=\"none\" stroke=\"black\"/>\n<polygon fill=\"black\" points=\"219.98,-46.64 217.78,-36.28 213.03,-45.75 219.98,-46.64\" stroke=\"black\"/>\n</g>\n</g>\n</svg>",
      "text/plain": [
       "<IPython.core.display.SVG object>"
      ]
     },
     "metadata": {}
    },
    {
     "output_type": "stream",
     "name": "stdout",
     "text": [
      "partialMatch=False\n"
     ]
    },
    {
     "output_type": "display_data",
     "data": {
      "image/svg+xml": "<svg height=\"211pt\" viewBox=\"0.00 0.00 125.00 211.00\" width=\"125pt\" xmlns=\"http://www.w3.org/2000/svg\" xmlns:xlink=\"http://www.w3.org/1999/xlink\">\n<g class=\"graph\" id=\"graph0\" transform=\"scale(1 1) rotate(0) translate(4 207)\">\n<polygon fill=\"white\" points=\"-4,4 -4,-207 121,-207 121,4 -4,4\" stroke=\"transparent\"/>\n<text font-family=\"Times,serif\" font-size=\"14.00\" text-anchor=\"middle\" x=\"58.5\" y=\"-187.8\">([ab] [ab]*)</text>\n<!-- 4588174160 -->\n<g class=\"node\" id=\"node1\">\n<title>4588174160</title>\n<ellipse cx=\"58\" cy=\"-162\" fill=\"none\" rx=\"18\" ry=\"18\" stroke=\"black\"/>\n<text font-family=\"Times,serif\" font-size=\"14.00\" text-anchor=\"middle\" x=\"58\" y=\"-158.3\">.</text>\n</g>\n<!-- 4588934672 -->\n<g class=\"node\" id=\"node2\">\n<title>4588934672</title>\n<text font-family=\"Times,serif\" font-size=\"14.00\" text-anchor=\"middle\" x=\"27\" y=\"-86.3\">[ab]</text>\n</g>\n<!-- 4588174160&#45;&gt;4588934672 -->\n<g class=\"edge\" id=\"edge2\">\n<title>4588174160-&gt;4588934672</title>\n<path d=\"M50.97,-145.12C47.36,-136.97 42.87,-126.84 38.76,-117.55\" fill=\"none\" stroke=\"black\"/>\n<polygon fill=\"black\" points=\"41.91,-116.02 34.66,-108.29 35.51,-118.85 41.91,-116.02\" stroke=\"black\"/>\n</g>\n<!-- 4588933392 -->\n<g class=\"node\" id=\"node3\">\n<title>4588933392</title>\n<ellipse cx=\"90\" cy=\"-90\" fill=\"none\" rx=\"18\" ry=\"18\" stroke=\"black\"/>\n<text font-family=\"Times,serif\" font-size=\"14.00\" text-anchor=\"middle\" x=\"90\" y=\"-86.3\">*</text>\n</g>\n<!-- 4588174160&#45;&gt;4588933392 -->\n<g class=\"edge\" id=\"edge3\">\n<title>4588174160-&gt;4588933392</title>\n<path d=\"M65.26,-145.12C69.19,-136.52 74.13,-125.72 78.56,-116.02\" fill=\"none\" stroke=\"black\"/>\n<polygon fill=\"black\" points=\"81.79,-117.37 82.77,-106.82 75.43,-114.46 81.79,-117.37\" stroke=\"black\"/>\n</g>\n<!-- 4588237392 -->\n<g class=\"node\" id=\"node4\">\n<title>4588237392</title>\n<text font-family=\"Times,serif\" font-size=\"14.00\" text-anchor=\"middle\" x=\"90\" y=\"-14.3\">[ab]</text>\n</g>\n<!-- 4588933392&#45;&gt;4588237392 -->\n<g class=\"edge\" id=\"edge1\">\n<title>4588933392-&gt;4588237392</title>\n<path d=\"M90,-71.7C90,-63.98 90,-54.71 90,-46.11\" fill=\"none\" stroke=\"black\"/>\n<polygon fill=\"black\" points=\"93.5,-46.1 90,-36.1 86.5,-46.1 93.5,-46.1\" stroke=\"black\"/>\n</g>\n</g>\n</svg>",
      "text/plain": [
       "<IPython.core.display.SVG object>"
      ]
     },
     "metadata": {}
    }
   ],
   "metadata": {}
  },
  {
   "cell_type": "code",
   "execution_count": 37,
   "source": [
    "\"\"\"FAdoized Regular Expression.\n",
    "Must follow the `benchmark/re.lark` grammar.\n",
    "\n",
    "- You can optionally escape any symbol, you must escape []()*+ using \\\\\n",
    "- Unicode support up to UTF-8 (where ordinals < 2**16)\n",
    "\"\"\"\n",
    "\n",
    "from benchmark.convert import Converter\n",
    "converter = Converter()\n",
    "\n",
    "fadoizedExpression = \"(<ASTART> (. + @any)*)\" # <== experiment by changing this string\n",
    "re = converter.math(fadoizedExpression, partialMatch=False) # default behaviour for math(...)\n",
    "print \"partialMatch=False\"\n",
    "re.display()\n",
    "\n",
    "re = converter.math(fadoizedExpression, partialMatch=True)\n",
    "print \"partialMatch=True\"\n",
    "re.display()\n",
    "\n",
    "re = converter.prog(fadoizedExpression, partialMatch=False)\n",
    "print \"Accidentally using prog instead of math function\"\n",
    "re.display()"
   ],
   "outputs": [
    {
     "output_type": "stream",
     "name": "stdout",
     "text": [
      "partialMatch=False\n"
     ]
    },
    {
     "output_type": "display_data",
     "data": {
      "image/svg+xml": "<svg height=\"283pt\" viewBox=\"0.00 0.00 175.00 283.00\" width=\"175pt\" xmlns=\"http://www.w3.org/2000/svg\" xmlns:xlink=\"http://www.w3.org/1999/xlink\">\n<g class=\"graph\" id=\"graph0\" transform=\"scale(1 1) rotate(0) translate(4 279)\">\n<polygon fill=\"white\" points=\"-4,4 -4,-279 171,-279 171,4 -4,4\" stroke=\"transparent\"/>\n<text font-family=\"Times,serif\" font-size=\"14.00\" text-anchor=\"middle\" x=\"83.5\" y=\"-259.8\">(@epsilon (. + @any)*)</text>\n<!-- 4584226896 -->\n<g class=\"node\" id=\"node1\">\n<title>4584226896</title>\n<ellipse cx=\"69\" cy=\"-234\" fill=\"none\" rx=\"18\" ry=\"18\" stroke=\"black\"/>\n<text font-family=\"Times,serif\" font-size=\"14.00\" text-anchor=\"middle\" x=\"69\" y=\"-230.3\">.</text>\n</g>\n<!-- 4589787024 -->\n<g class=\"node\" id=\"node2\">\n<title>4589787024</title>\n<text font-family=\"Times,serif\" font-size=\"14.00\" text-anchor=\"middle\" x=\"34\" y=\"-158.3\">@epsilon</text>\n</g>\n<!-- 4584226896&#45;&gt;4589787024 -->\n<g class=\"edge\" id=\"edge4\">\n<title>4584226896-&gt;4589787024</title>\n<path d=\"M61.23,-217.46C57.12,-209.25 51.97,-198.93 47.25,-189.5\" fill=\"none\" stroke=\"black\"/>\n<polygon fill=\"black\" points=\"50.33,-187.84 42.73,-180.46 44.07,-190.97 50.33,-187.84\" stroke=\"black\"/>\n</g>\n<!-- 4583952208 -->\n<g class=\"node\" id=\"node3\">\n<title>4583952208</title>\n<ellipse cx=\"104\" cy=\"-162\" fill=\"none\" rx=\"18\" ry=\"18\" stroke=\"black\"/>\n<text font-family=\"Times,serif\" font-size=\"14.00\" text-anchor=\"middle\" x=\"104\" y=\"-158.3\">*</text>\n</g>\n<!-- 4584226896&#45;&gt;4583952208 -->\n<g class=\"edge\" id=\"edge5\">\n<title>4584226896-&gt;4583952208</title>\n<path d=\"M76.77,-217.46C81.16,-208.67 86.76,-197.48 91.73,-187.53\" fill=\"none\" stroke=\"black\"/>\n<polygon fill=\"black\" points=\"94.91,-189 96.25,-178.49 88.65,-185.87 94.91,-189\" stroke=\"black\"/>\n</g>\n<!-- 4583950288 -->\n<g class=\"node\" id=\"node4\">\n<title>4583950288</title>\n<ellipse cx=\"104\" cy=\"-90\" fill=\"none\" rx=\"18\" ry=\"18\" stroke=\"black\"/>\n<text font-family=\"Times,serif\" font-size=\"14.00\" text-anchor=\"middle\" x=\"104\" y=\"-86.3\">+</text>\n</g>\n<!-- 4583952208&#45;&gt;4583950288 -->\n<g class=\"edge\" id=\"edge3\">\n<title>4583952208-&gt;4583950288</title>\n<path d=\"M104,-143.7C104,-135.98 104,-126.71 104,-118.11\" fill=\"none\" stroke=\"black\"/>\n<polygon fill=\"black\" points=\"107.5,-118.1 104,-108.1 100.5,-118.1 107.5,-118.1\" stroke=\"black\"/>\n</g>\n<!-- 4588872080 -->\n<g class=\"node\" id=\"node5\">\n<title>4588872080</title>\n<text font-family=\"Times,serif\" font-size=\"14.00\" text-anchor=\"middle\" x=\"68\" y=\"-14.3\">.</text>\n</g>\n<!-- 4583950288&#45;&gt;4588872080 -->\n<g class=\"edge\" id=\"edge1\">\n<title>4583950288-&gt;4588872080</title>\n<path d=\"M96.01,-73.46C91.78,-65.25 86.48,-54.93 81.63,-45.5\" fill=\"none\" stroke=\"black\"/>\n<polygon fill=\"black\" points=\"84.67,-43.75 76.98,-36.46 78.44,-46.95 84.67,-43.75\" stroke=\"black\"/>\n</g>\n<!-- 4583800016 -->\n<g class=\"node\" id=\"node6\">\n<title>4583800016</title>\n<text font-family=\"Times,serif\" font-size=\"14.00\" text-anchor=\"middle\" x=\"140\" y=\"-14.3\">@any</text>\n</g>\n<!-- 4583950288&#45;&gt;4583800016 -->\n<g class=\"edge\" id=\"edge2\">\n<title>4583950288-&gt;4583800016</title>\n<path d=\"M111.99,-73.46C116.22,-65.25 121.52,-54.93 126.37,-45.5\" fill=\"none\" stroke=\"black\"/>\n<polygon fill=\"black\" points=\"129.56,-46.95 131.02,-36.46 123.33,-43.75 129.56,-46.95\" stroke=\"black\"/>\n</g>\n</g>\n</svg>",
      "text/plain": [
       "<IPython.core.display.SVG object>"
      ]
     },
     "metadata": {}
    },
    {
     "output_type": "stream",
     "name": "stdout",
     "text": [
      "partialMatch=True\n"
     ]
    },
    {
     "output_type": "display_data",
     "data": {
      "image/svg+xml": "<svg height=\"355pt\" viewBox=\"0.00 0.00 208.00 355.00\" width=\"208pt\" xmlns=\"http://www.w3.org/2000/svg\" xmlns:xlink=\"http://www.w3.org/1999/xlink\">\n<g class=\"graph\" id=\"graph0\" transform=\"scale(1 1) rotate(0) translate(4 351)\">\n<polygon fill=\"white\" points=\"-4,4 -4,-351 204,-351 204,4 -4,4\" stroke=\"transparent\"/>\n<text font-family=\"Times,serif\" font-size=\"14.00\" text-anchor=\"middle\" x=\"100\" y=\"-331.8\">(@epsilon ((. + @any)* @any*))</text>\n<!-- 4588172048 -->\n<g class=\"node\" id=\"node1\">\n<title>4588172048</title>\n<ellipse cx=\"87.5\" cy=\"-306\" fill=\"none\" rx=\"18\" ry=\"18\" stroke=\"black\"/>\n<text font-family=\"Times,serif\" font-size=\"14.00\" text-anchor=\"middle\" x=\"87.5\" y=\"-302.3\">.</text>\n</g>\n<!-- 4584227024 -->\n<g class=\"node\" id=\"node2\">\n<title>4584227024</title>\n<text font-family=\"Times,serif\" font-size=\"14.00\" text-anchor=\"middle\" x=\"52.5\" y=\"-230.3\">@epsilon</text>\n</g>\n<!-- 4588172048&#45;&gt;4584227024 -->\n<g class=\"edge\" id=\"edge7\">\n<title>4588172048-&gt;4584227024</title>\n<path d=\"M79.73,-289.46C75.62,-281.25 70.47,-270.93 65.75,-261.5\" fill=\"none\" stroke=\"black\"/>\n<polygon fill=\"black\" points=\"68.83,-259.84 61.23,-252.46 62.57,-262.97 68.83,-259.84\" stroke=\"black\"/>\n</g>\n<!-- 4588172816 -->\n<g class=\"node\" id=\"node3\">\n<title>4588172816</title>\n<ellipse cx=\"122.5\" cy=\"-234\" fill=\"none\" rx=\"18\" ry=\"18\" stroke=\"black\"/>\n<text font-family=\"Times,serif\" font-size=\"14.00\" text-anchor=\"middle\" x=\"122.5\" y=\"-230.3\">.</text>\n</g>\n<!-- 4588172048&#45;&gt;4588172816 -->\n<g class=\"edge\" id=\"edge8\">\n<title>4588172048-&gt;4588172816</title>\n<path d=\"M95.27,-289.46C99.66,-280.67 105.26,-269.48 110.23,-259.53\" fill=\"none\" stroke=\"black\"/>\n<polygon fill=\"black\" points=\"113.41,-261 114.75,-250.49 107.15,-257.87 113.41,-261\" stroke=\"black\"/>\n</g>\n<!-- 4588174736 -->\n<g class=\"node\" id=\"node4\">\n<title>4588174736</title>\n<ellipse cx=\"93.5\" cy=\"-162\" fill=\"none\" rx=\"18\" ry=\"18\" stroke=\"black\"/>\n<text font-family=\"Times,serif\" font-size=\"14.00\" text-anchor=\"middle\" x=\"93.5\" y=\"-158.3\">*</text>\n</g>\n<!-- 4588172816&#45;&gt;4588174736 -->\n<g class=\"edge\" id=\"edge5\">\n<title>4588172816-&gt;4588174736</title>\n<path d=\"M115.92,-217.12C112.4,-208.61 107.98,-197.94 103.99,-188.32\" fill=\"none\" stroke=\"black\"/>\n<polygon fill=\"black\" points=\"107.12,-186.72 100.05,-178.82 100.65,-189.4 107.12,-186.72\" stroke=\"black\"/>\n</g>\n<!-- 4588174544 -->\n<g class=\"node\" id=\"node8\">\n<title>4588174544</title>\n<ellipse cx=\"151.5\" cy=\"-162\" fill=\"none\" rx=\"18\" ry=\"18\" stroke=\"black\"/>\n<text font-family=\"Times,serif\" font-size=\"14.00\" text-anchor=\"middle\" x=\"151.5\" y=\"-158.3\">*</text>\n</g>\n<!-- 4588172816&#45;&gt;4588174544 -->\n<g class=\"edge\" id=\"edge6\">\n<title>4588172816-&gt;4588174544</title>\n<path d=\"M129.08,-217.12C132.6,-208.61 137.02,-197.94 141.01,-188.32\" fill=\"none\" stroke=\"black\"/>\n<polygon fill=\"black\" points=\"144.35,-189.4 144.95,-178.82 137.88,-186.72 144.35,-189.4\" stroke=\"black\"/>\n</g>\n<!-- 4588174096 -->\n<g class=\"node\" id=\"node5\">\n<title>4588174096</title>\n<ellipse cx=\"91.5\" cy=\"-90\" fill=\"none\" rx=\"18\" ry=\"18\" stroke=\"black\"/>\n<text font-family=\"Times,serif\" font-size=\"14.00\" text-anchor=\"middle\" x=\"91.5\" y=\"-86.3\">+</text>\n</g>\n<!-- 4588174736&#45;&gt;4588174096 -->\n<g class=\"edge\" id=\"edge3\">\n<title>4588174736-&gt;4588174096</title>\n<path d=\"M93.01,-143.7C92.79,-135.98 92.52,-126.71 92.27,-118.11\" fill=\"none\" stroke=\"black\"/>\n<polygon fill=\"black\" points=\"95.77,-118 91.99,-108.1 88.78,-118.2 95.77,-118\" stroke=\"black\"/>\n</g>\n<!-- 4584227152 -->\n<g class=\"node\" id=\"node6\">\n<title>4584227152</title>\n<text font-family=\"Times,serif\" font-size=\"14.00\" text-anchor=\"middle\" x=\"55.5\" y=\"-14.3\">.</text>\n</g>\n<!-- 4588174096&#45;&gt;4584227152 -->\n<g class=\"edge\" id=\"edge1\">\n<title>4588174096-&gt;4584227152</title>\n<path d=\"M83.51,-73.46C79.28,-65.25 73.98,-54.93 69.13,-45.5\" fill=\"none\" stroke=\"black\"/>\n<polygon fill=\"black\" points=\"72.17,-43.75 64.48,-36.46 65.94,-46.95 72.17,-43.75\" stroke=\"black\"/>\n</g>\n<!-- 4584227728 -->\n<g class=\"node\" id=\"node7\">\n<title>4584227728</title>\n<text font-family=\"Times,serif\" font-size=\"14.00\" text-anchor=\"middle\" x=\"127.5\" y=\"-14.3\">@any</text>\n</g>\n<!-- 4588174096&#45;&gt;4584227728 -->\n<g class=\"edge\" id=\"edge2\">\n<title>4588174096-&gt;4584227728</title>\n<path d=\"M99.49,-73.46C103.72,-65.25 109.02,-54.93 113.87,-45.5\" fill=\"none\" stroke=\"black\"/>\n<polygon fill=\"black\" points=\"117.06,-46.95 118.52,-36.46 110.83,-43.75 117.06,-46.95\" stroke=\"black\"/>\n</g>\n<!-- 4584227408 -->\n<g class=\"node\" id=\"node9\">\n<title>4584227408</title>\n<text font-family=\"Times,serif\" font-size=\"14.00\" text-anchor=\"middle\" x=\"154.5\" y=\"-86.3\">@any</text>\n</g>\n<!-- 4588174544&#45;&gt;4584227408 -->\n<g class=\"edge\" id=\"edge4\">\n<title>4588174544-&gt;4584227408</title>\n<path d=\"M152.24,-143.7C152.57,-135.98 152.97,-126.71 153.34,-118.11\" fill=\"none\" stroke=\"black\"/>\n<polygon fill=\"black\" points=\"156.84,-118.25 153.77,-108.1 149.84,-117.95 156.84,-118.25\" stroke=\"black\"/>\n</g>\n</g>\n</svg>",
      "text/plain": [
       "<IPython.core.display.SVG object>"
      ]
     },
     "metadata": {}
    },
    {
     "output_type": "stream",
     "name": "stdout",
     "text": [
      "Accidentally using prog instead of math function\n"
     ]
    },
    {
     "output_type": "display_data",
     "data": {
      "image/svg+xml": "<svg height=\"787pt\" viewBox=\"0.00 0.00 443.00 787.00\" width=\"443pt\" xmlns=\"http://www.w3.org/2000/svg\" xmlns:xlink=\"http://www.w3.org/1999/xlink\">\n<g class=\"graph\" id=\"graph0\" transform=\"scale(1 1) rotate(0) translate(4 783)\">\n<polygon fill=\"white\" points=\"-4,4 -4,-783 439,-783 439,4 -4,4\" stroke=\"transparent\"/>\n<text font-family=\"Times,serif\" font-size=\"14.00\" text-anchor=\"middle\" x=\"217.5\" y=\"-763.8\">(((((((((&lt; A) S) T) A) R) T) &gt;)  ) ((((((@any (   *))  ) @) a) n) y)*)</text>\n<!-- 4588870096 -->\n<g class=\"node\" id=\"node1\">\n<title>4588870096</title>\n<ellipse cx=\"324\" cy=\"-738\" fill=\"none\" rx=\"18\" ry=\"18\" stroke=\"black\"/>\n<text font-family=\"Times,serif\" font-size=\"14.00\" text-anchor=\"middle\" x=\"324\" y=\"-734.3\">.</text>\n</g>\n<!-- 4588870160 -->\n<g class=\"node\" id=\"node2\">\n<title>4588870160</title>\n<ellipse cx=\"297\" cy=\"-666\" fill=\"none\" rx=\"18\" ry=\"18\" stroke=\"black\"/>\n<text font-family=\"Times,serif\" font-size=\"14.00\" text-anchor=\"middle\" x=\"297\" y=\"-662.3\">.</text>\n</g>\n<!-- 4588870096&#45;&gt;4588870160 -->\n<g class=\"edge\" id=\"edge33\">\n<title>4588870096-&gt;4588870160</title>\n<path d=\"M317.74,-720.76C314.5,-712.37 310.47,-701.93 306.83,-692.5\" fill=\"none\" stroke=\"black\"/>\n<polygon fill=\"black\" points=\"310.09,-691.22 303.23,-683.15 303.56,-693.74 310.09,-691.22\" stroke=\"black\"/>\n</g>\n<!-- 4588867664 -->\n<g class=\"node\" id=\"node19\">\n<title>4588867664</title>\n<ellipse cx=\"357\" cy=\"-666\" fill=\"none\" rx=\"18\" ry=\"18\" stroke=\"black\"/>\n<text font-family=\"Times,serif\" font-size=\"14.00\" text-anchor=\"middle\" x=\"357\" y=\"-662.3\">*</text>\n</g>\n<!-- 4588870096&#45;&gt;4588867664 -->\n<g class=\"edge\" id=\"edge34\">\n<title>4588870096-&gt;4588867664</title>\n<path d=\"M331.32,-721.46C335.43,-712.76 340.64,-701.71 345.29,-691.84\" fill=\"none\" stroke=\"black\"/>\n<polygon fill=\"black\" points=\"348.6,-693.03 349.7,-682.49 342.27,-690.04 348.6,-693.03\" stroke=\"black\"/>\n</g>\n<!-- 4588870480 -->\n<g class=\"node\" id=\"node3\">\n<title>4588870480</title>\n<ellipse cx=\"231\" cy=\"-594\" fill=\"none\" rx=\"18\" ry=\"18\" stroke=\"black\"/>\n<text font-family=\"Times,serif\" font-size=\"14.00\" text-anchor=\"middle\" x=\"231\" y=\"-590.3\">.</text>\n</g>\n<!-- 4588870160&#45;&gt;4588870480 -->\n<g class=\"edge\" id=\"edge15\">\n<title>4588870160-&gt;4588870480</title>\n<path d=\"M284.89,-652.16C275.13,-641.8 261.21,-627.04 249.96,-615.11\" fill=\"none\" stroke=\"black\"/>\n<polygon fill=\"black\" points=\"252.44,-612.63 243.03,-607.76 247.34,-617.43 252.44,-612.63\" stroke=\"black\"/>\n</g>\n<!-- 4588867792 -->\n<g class=\"node\" id=\"node18\">\n<title>4588867792</title>\n<text font-family=\"Times,serif\" font-size=\"14.00\" text-anchor=\"middle\" x=\"297\" y=\"-590.3\">SPACE</text>\n</g>\n<!-- 4588870160&#45;&gt;4588867792 -->\n<g class=\"edge\" id=\"edge16\">\n<title>4588870160-&gt;4588867792</title>\n<path d=\"M297,-647.7C297,-639.98 297,-630.71 297,-622.11\" fill=\"none\" stroke=\"black\"/>\n<polygon fill=\"black\" points=\"300.5,-622.1 297,-612.1 293.5,-622.1 300.5,-622.1\" stroke=\"black\"/>\n</g>\n<!-- 4588868368 -->\n<g class=\"node\" id=\"node4\">\n<title>4588868368</title>\n<ellipse cx=\"203\" cy=\"-522\" fill=\"none\" rx=\"18\" ry=\"18\" stroke=\"black\"/>\n<text font-family=\"Times,serif\" font-size=\"14.00\" text-anchor=\"middle\" x=\"203\" y=\"-518.3\">.</text>\n</g>\n<!-- 4588870480&#45;&gt;4588868368 -->\n<g class=\"edge\" id=\"edge13\">\n<title>4588870480-&gt;4588868368</title>\n<path d=\"M224.65,-577.12C221.29,-568.73 217.1,-558.24 213.29,-548.73\" fill=\"none\" stroke=\"black\"/>\n<polygon fill=\"black\" points=\"216.49,-547.29 209.52,-539.31 209.99,-549.89 216.49,-547.29\" stroke=\"black\"/>\n</g>\n<!-- 4588867856 -->\n<g class=\"node\" id=\"node17\">\n<title>4588867856</title>\n<text font-family=\"Times,serif\" font-size=\"14.00\" text-anchor=\"middle\" x=\"266\" y=\"-518.3\">&gt;</text>\n</g>\n<!-- 4588870480&#45;&gt;4588867856 -->\n<g class=\"edge\" id=\"edge14\">\n<title>4588870480-&gt;4588867856</title>\n<path d=\"M238.77,-577.46C242.88,-569.25 248.03,-558.93 252.75,-549.5\" fill=\"none\" stroke=\"black\"/>\n<polygon fill=\"black\" points=\"255.93,-550.97 257.27,-540.46 249.67,-547.84 255.93,-550.97\" stroke=\"black\"/>\n</g>\n<!-- 4588868816 -->\n<g class=\"node\" id=\"node5\">\n<title>4588868816</title>\n<ellipse cx=\"172\" cy=\"-450\" fill=\"none\" rx=\"18\" ry=\"18\" stroke=\"black\"/>\n<text font-family=\"Times,serif\" font-size=\"14.00\" text-anchor=\"middle\" x=\"172\" y=\"-446.3\">.</text>\n</g>\n<!-- 4588868368&#45;&gt;4588868816 -->\n<g class=\"edge\" id=\"edge11\">\n<title>4588868368-&gt;4588868816</title>\n<path d=\"M195.97,-505.12C192.16,-496.52 187.37,-485.72 183.08,-476.02\" fill=\"none\" stroke=\"black\"/>\n<polygon fill=\"black\" points=\"186.26,-474.55 179.01,-466.82 179.86,-477.38 186.26,-474.55\" stroke=\"black\"/>\n</g>\n<!-- 4588868688 -->\n<g class=\"node\" id=\"node16\">\n<title>4588868688</title>\n<text font-family=\"Times,serif\" font-size=\"14.00\" text-anchor=\"middle\" x=\"235\" y=\"-446.3\">T</text>\n</g>\n<!-- 4588868368&#45;&gt;4588868688 -->\n<g class=\"edge\" id=\"edge12\">\n<title>4588868368-&gt;4588868688</title>\n<path d=\"M210.26,-505.12C213.98,-496.97 218.62,-486.84 222.86,-477.55\" fill=\"none\" stroke=\"black\"/>\n<polygon fill=\"black\" points=\"226.12,-478.84 227.1,-468.29 219.75,-475.93 226.12,-478.84\" stroke=\"black\"/>\n</g>\n<!-- 4588871120 -->\n<g class=\"node\" id=\"node6\">\n<title>4588871120</title>\n<ellipse cx=\"141\" cy=\"-378\" fill=\"none\" rx=\"18\" ry=\"18\" stroke=\"black\"/>\n<text font-family=\"Times,serif\" font-size=\"14.00\" text-anchor=\"middle\" x=\"141\" y=\"-374.3\">.</text>\n</g>\n<!-- 4588868816&#45;&gt;4588871120 -->\n<g class=\"edge\" id=\"edge9\">\n<title>4588868816-&gt;4588871120</title>\n<path d=\"M164.97,-433.12C161.16,-424.52 156.37,-413.72 152.08,-404.02\" fill=\"none\" stroke=\"black\"/>\n<polygon fill=\"black\" points=\"155.26,-402.55 148.01,-394.82 148.86,-405.38 155.26,-402.55\" stroke=\"black\"/>\n</g>\n<!-- 4588870928 -->\n<g class=\"node\" id=\"node15\">\n<title>4588870928</title>\n<text font-family=\"Times,serif\" font-size=\"14.00\" text-anchor=\"middle\" x=\"204\" y=\"-374.3\">R</text>\n</g>\n<!-- 4588868816&#45;&gt;4588870928 -->\n<g class=\"edge\" id=\"edge10\">\n<title>4588868816-&gt;4588870928</title>\n<path d=\"M179.26,-433.12C182.98,-424.97 187.62,-414.84 191.86,-405.55\" fill=\"none\" stroke=\"black\"/>\n<polygon fill=\"black\" points=\"195.12,-406.84 196.1,-396.29 188.75,-403.93 195.12,-406.84\" stroke=\"black\"/>\n</g>\n<!-- 4588173392 -->\n<g class=\"node\" id=\"node7\">\n<title>4588173392</title>\n<ellipse cx=\"110\" cy=\"-306\" fill=\"none\" rx=\"18\" ry=\"18\" stroke=\"black\"/>\n<text font-family=\"Times,serif\" font-size=\"14.00\" text-anchor=\"middle\" x=\"110\" y=\"-302.3\">.</text>\n</g>\n<!-- 4588871120&#45;&gt;4588173392 -->\n<g class=\"edge\" id=\"edge7\">\n<title>4588871120-&gt;4588173392</title>\n<path d=\"M133.97,-361.12C130.16,-352.52 125.37,-341.72 121.08,-332.02\" fill=\"none\" stroke=\"black\"/>\n<polygon fill=\"black\" points=\"124.26,-330.55 117.01,-322.82 117.86,-333.38 124.26,-330.55\" stroke=\"black\"/>\n</g>\n<!-- 4588869264 -->\n<g class=\"node\" id=\"node14\">\n<title>4588869264</title>\n<text font-family=\"Times,serif\" font-size=\"14.00\" text-anchor=\"middle\" x=\"173\" y=\"-302.3\">A</text>\n</g>\n<!-- 4588871120&#45;&gt;4588869264 -->\n<g class=\"edge\" id=\"edge8\">\n<title>4588871120-&gt;4588869264</title>\n<path d=\"M148.26,-361.12C151.98,-352.97 156.62,-342.84 160.86,-333.55\" fill=\"none\" stroke=\"black\"/>\n<polygon fill=\"black\" points=\"164.12,-334.84 165.1,-324.29 157.75,-331.93 164.12,-334.84\" stroke=\"black\"/>\n</g>\n<!-- 4588174416 -->\n<g class=\"node\" id=\"node8\">\n<title>4588174416</title>\n<ellipse cx=\"77\" cy=\"-234\" fill=\"none\" rx=\"18\" ry=\"18\" stroke=\"black\"/>\n<text font-family=\"Times,serif\" font-size=\"14.00\" text-anchor=\"middle\" x=\"77\" y=\"-230.3\">.</text>\n</g>\n<!-- 4588173392&#45;&gt;4588174416 -->\n<g class=\"edge\" id=\"edge5\">\n<title>4588173392-&gt;4588174416</title>\n<path d=\"M102.68,-289.46C98.57,-280.76 93.36,-269.71 88.71,-259.84\" fill=\"none\" stroke=\"black\"/>\n<polygon fill=\"black\" points=\"91.73,-258.04 84.3,-250.49 85.4,-261.03 91.73,-258.04\" stroke=\"black\"/>\n</g>\n<!-- 4588175120 -->\n<g class=\"node\" id=\"node13\">\n<title>4588175120</title>\n<text font-family=\"Times,serif\" font-size=\"14.00\" text-anchor=\"middle\" x=\"140\" y=\"-230.3\">T</text>\n</g>\n<!-- 4588173392&#45;&gt;4588175120 -->\n<g class=\"edge\" id=\"edge6\">\n<title>4588173392-&gt;4588175120</title>\n<path d=\"M116.81,-289.12C120.3,-280.97 124.64,-270.84 128.62,-261.55\" fill=\"none\" stroke=\"black\"/>\n<polygon fill=\"black\" points=\"131.87,-262.86 132.59,-252.29 125.43,-260.1 131.87,-262.86\" stroke=\"black\"/>\n</g>\n<!-- 4588174480 -->\n<g class=\"node\" id=\"node9\">\n<title>4588174480</title>\n<ellipse cx=\"34\" cy=\"-162\" fill=\"none\" rx=\"18\" ry=\"18\" stroke=\"black\"/>\n<text font-family=\"Times,serif\" font-size=\"14.00\" text-anchor=\"middle\" x=\"34\" y=\"-158.3\">.</text>\n</g>\n<!-- 4588174416&#45;&gt;4588174480 -->\n<g class=\"edge\" id=\"edge3\">\n<title>4588174416-&gt;4588174480</title>\n<path d=\"M67.88,-218.15C62.24,-208.97 54.87,-196.97 48.44,-186.51\" fill=\"none\" stroke=\"black\"/>\n<polygon fill=\"black\" points=\"51.32,-184.51 43.11,-177.82 45.36,-188.18 51.32,-184.51\" stroke=\"black\"/>\n</g>\n<!-- 4588173264 -->\n<g class=\"node\" id=\"node12\">\n<title>4588173264</title>\n<text font-family=\"Times,serif\" font-size=\"14.00\" text-anchor=\"middle\" x=\"97\" y=\"-158.3\">S</text>\n</g>\n<!-- 4588174416&#45;&gt;4588173264 -->\n<g class=\"edge\" id=\"edge4\">\n<title>4588174416-&gt;4588173264</title>\n<path d=\"M81.74,-216.41C83.96,-208.62 86.68,-199.14 89.19,-190.33\" fill=\"none\" stroke=\"black\"/>\n<polygon fill=\"black\" points=\"92.63,-191.02 92.02,-180.45 85.9,-189.1 92.63,-191.02\" stroke=\"black\"/>\n</g>\n<!-- 4583800016 -->\n<g class=\"node\" id=\"node10\">\n<title>4583800016</title>\n<text font-family=\"Times,serif\" font-size=\"14.00\" text-anchor=\"middle\" x=\"27\" y=\"-86.3\">&lt;</text>\n</g>\n<!-- 4588174480&#45;&gt;4583800016 -->\n<g class=\"edge\" id=\"edge1\">\n<title>4588174480-&gt;4583800016</title>\n<path d=\"M32.31,-144.05C31.53,-136.35 30.6,-127.03 29.74,-118.36\" fill=\"none\" stroke=\"black\"/>\n<polygon fill=\"black\" points=\"33.21,-117.88 28.73,-108.28 26.24,-118.57 33.21,-117.88\" stroke=\"black\"/>\n</g>\n<!-- 4584226896 -->\n<g class=\"node\" id=\"node11\">\n<title>4584226896</title>\n<text font-family=\"Times,serif\" font-size=\"14.00\" text-anchor=\"middle\" x=\"99\" y=\"-86.3\">A</text>\n</g>\n<!-- 4588174480&#45;&gt;4584226896 -->\n<g class=\"edge\" id=\"edge2\">\n<title>4588174480-&gt;4584226896</title>\n<path d=\"M45.92,-148.16C54.3,-139.14 65.77,-126.78 75.91,-115.87\" fill=\"none\" stroke=\"black\"/>\n<polygon fill=\"black\" points=\"78.75,-117.95 82.99,-108.24 73.62,-113.19 78.75,-117.95\" stroke=\"black\"/>\n</g>\n<!-- 4588869712 -->\n<g class=\"node\" id=\"node20\">\n<title>4588869712</title>\n<ellipse cx=\"363\" cy=\"-594\" fill=\"none\" rx=\"18\" ry=\"18\" stroke=\"black\"/>\n<text font-family=\"Times,serif\" font-size=\"14.00\" text-anchor=\"middle\" x=\"363\" y=\"-590.3\">.</text>\n</g>\n<!-- 4588867664&#45;&gt;4588869712 -->\n<g class=\"edge\" id=\"edge32\">\n<title>4588867664-&gt;4588869712</title>\n<path d=\"M358.45,-648.05C359.11,-640.35 359.91,-631.03 360.65,-622.36\" fill=\"none\" stroke=\"black\"/>\n<polygon fill=\"black\" points=\"364.15,-622.54 361.52,-612.28 357.18,-621.94 364.15,-622.54\" stroke=\"black\"/>\n</g>\n<!-- 4588869200 -->\n<g class=\"node\" id=\"node21\">\n<title>4588869200</title>\n<ellipse cx=\"345\" cy=\"-522\" fill=\"none\" rx=\"18\" ry=\"18\" stroke=\"black\"/>\n<text font-family=\"Times,serif\" font-size=\"14.00\" text-anchor=\"middle\" x=\"345\" y=\"-518.3\">.</text>\n</g>\n<!-- 4588869712&#45;&gt;4588869200 -->\n<g class=\"edge\" id=\"edge30\">\n<title>4588869712-&gt;4588869200</title>\n<path d=\"M358.73,-576.41C356.68,-568.42 354.17,-558.64 351.85,-549.64\" fill=\"none\" stroke=\"black\"/>\n<polygon fill=\"black\" points=\"355.24,-548.77 349.36,-539.96 348.46,-550.51 355.24,-548.77\" stroke=\"black\"/>\n</g>\n<!-- 4588869584 -->\n<g class=\"node\" id=\"node35\">\n<title>4588869584</title>\n<text font-family=\"Times,serif\" font-size=\"14.00\" text-anchor=\"middle\" x=\"408\" y=\"-518.3\">y</text>\n</g>\n<!-- 4588869712&#45;&gt;4588869584 -->\n<g class=\"edge\" id=\"edge31\">\n<title>4588869712-&gt;4588869584</title>\n<path d=\"M372.32,-578.5C377.86,-569.89 385.04,-558.72 391.5,-548.66\" fill=\"none\" stroke=\"black\"/>\n<polygon fill=\"black\" points=\"394.48,-550.51 396.94,-540.2 388.59,-546.72 394.48,-550.51\" stroke=\"black\"/>\n</g>\n<!-- 4588871440 -->\n<g class=\"node\" id=\"node22\">\n<title>4588871440</title>\n<ellipse cx=\"298\" cy=\"-450\" fill=\"none\" rx=\"18\" ry=\"18\" stroke=\"black\"/>\n<text font-family=\"Times,serif\" font-size=\"14.00\" text-anchor=\"middle\" x=\"298\" y=\"-446.3\">.</text>\n</g>\n<!-- 4588869200&#45;&gt;4588871440 -->\n<g class=\"edge\" id=\"edge28\">\n<title>4588869200-&gt;4588871440</title>\n<path d=\"M335.26,-506.5C328.96,-497.11 320.62,-484.69 313.43,-473.98\" fill=\"none\" stroke=\"black\"/>\n<polygon fill=\"black\" points=\"316.21,-471.84 307.73,-465.49 310.39,-475.74 316.21,-471.84\" stroke=\"black\"/>\n</g>\n<!-- 4588869840 -->\n<g class=\"node\" id=\"node34\">\n<title>4588869840</title>\n<text font-family=\"Times,serif\" font-size=\"14.00\" text-anchor=\"middle\" x=\"361\" y=\"-446.3\">n</text>\n</g>\n<!-- 4588869200&#45;&gt;4588869840 -->\n<g class=\"edge\" id=\"edge29\">\n<title>4588869200-&gt;4588869840</title>\n<path d=\"M348.87,-504.05C350.65,-496.26 352.81,-486.82 354.81,-478.08\" fill=\"none\" stroke=\"black\"/>\n<polygon fill=\"black\" points=\"358.24,-478.8 357.05,-468.28 351.41,-477.24 358.24,-478.8\" stroke=\"black\"/>\n</g>\n<!-- 4588868944 -->\n<g class=\"node\" id=\"node23\">\n<title>4588868944</title>\n<ellipse cx=\"267\" cy=\"-378\" fill=\"none\" rx=\"18\" ry=\"18\" stroke=\"black\"/>\n<text font-family=\"Times,serif\" font-size=\"14.00\" text-anchor=\"middle\" x=\"267\" y=\"-374.3\">.</text>\n</g>\n<!-- 4588871440&#45;&gt;4588868944 -->\n<g class=\"edge\" id=\"edge26\">\n<title>4588871440-&gt;4588868944</title>\n<path d=\"M290.97,-433.12C287.16,-424.52 282.37,-413.72 278.08,-404.02\" fill=\"none\" stroke=\"black\"/>\n<polygon fill=\"black\" points=\"281.26,-402.55 274.01,-394.82 274.86,-405.38 281.26,-402.55\" stroke=\"black\"/>\n</g>\n<!-- 4588868432 -->\n<g class=\"node\" id=\"node33\">\n<title>4588868432</title>\n<text font-family=\"Times,serif\" font-size=\"14.00\" text-anchor=\"middle\" x=\"330\" y=\"-374.3\">a</text>\n</g>\n<!-- 4588871440&#45;&gt;4588868432 -->\n<g class=\"edge\" id=\"edge27\">\n<title>4588871440-&gt;4588868432</title>\n<path d=\"M305.26,-433.12C308.98,-424.97 313.62,-414.84 317.86,-405.55\" fill=\"none\" stroke=\"black\"/>\n<polygon fill=\"black\" points=\"321.12,-406.84 322.1,-396.29 314.75,-403.93 321.12,-406.84\" stroke=\"black\"/>\n</g>\n<!-- 4588871504 -->\n<g class=\"node\" id=\"node24\">\n<title>4588871504</title>\n<ellipse cx=\"236\" cy=\"-306\" fill=\"none\" rx=\"18\" ry=\"18\" stroke=\"black\"/>\n<text font-family=\"Times,serif\" font-size=\"14.00\" text-anchor=\"middle\" x=\"236\" y=\"-302.3\">.</text>\n</g>\n<!-- 4588868944&#45;&gt;4588871504 -->\n<g class=\"edge\" id=\"edge24\">\n<title>4588868944-&gt;4588871504</title>\n<path d=\"M259.97,-361.12C256.16,-352.52 251.37,-341.72 247.08,-332.02\" fill=\"none\" stroke=\"black\"/>\n<polygon fill=\"black\" points=\"250.26,-330.55 243.01,-322.82 243.86,-333.38 250.26,-330.55\" stroke=\"black\"/>\n</g>\n<!-- 4588870352 -->\n<g class=\"node\" id=\"node32\">\n<title>4588870352</title>\n<text font-family=\"Times,serif\" font-size=\"14.00\" text-anchor=\"middle\" x=\"299\" y=\"-302.3\">@</text>\n</g>\n<!-- 4588868944&#45;&gt;4588870352 -->\n<g class=\"edge\" id=\"edge25\">\n<title>4588868944-&gt;4588870352</title>\n<path d=\"M274.26,-361.12C277.98,-352.97 282.62,-342.84 286.86,-333.55\" fill=\"none\" stroke=\"black\"/>\n<polygon fill=\"black\" points=\"290.12,-334.84 291.1,-324.29 283.75,-331.93 290.12,-334.84\" stroke=\"black\"/>\n</g>\n<!-- 4588869968 -->\n<g class=\"node\" id=\"node25\">\n<title>4588869968</title>\n<ellipse cx=\"207\" cy=\"-234\" fill=\"none\" rx=\"18\" ry=\"18\" stroke=\"black\"/>\n<text font-family=\"Times,serif\" font-size=\"14.00\" text-anchor=\"middle\" x=\"207\" y=\"-230.3\">.</text>\n</g>\n<!-- 4588871504&#45;&gt;4588869968 -->\n<g class=\"edge\" id=\"edge22\">\n<title>4588871504-&gt;4588869968</title>\n<path d=\"M229.42,-289.12C225.9,-280.61 221.48,-269.94 217.49,-260.32\" fill=\"none\" stroke=\"black\"/>\n<polygon fill=\"black\" points=\"220.62,-258.72 213.55,-250.82 214.15,-261.4 220.62,-258.72\" stroke=\"black\"/>\n</g>\n<!-- 4588869456 -->\n<g class=\"node\" id=\"node31\">\n<title>4588869456</title>\n<text font-family=\"Times,serif\" font-size=\"14.00\" text-anchor=\"middle\" x=\"273\" y=\"-230.3\">SPACE</text>\n</g>\n<!-- 4588871504&#45;&gt;4588869456 -->\n<g class=\"edge\" id=\"edge23\">\n<title>4588871504-&gt;4588869456</title>\n<path d=\"M244.03,-289.81C248.47,-281.4 254.12,-270.72 259.25,-261.02\" fill=\"none\" stroke=\"black\"/>\n<polygon fill=\"black\" points=\"262.37,-262.6 263.95,-252.13 256.18,-259.33 262.37,-262.6\" stroke=\"black\"/>\n</g>\n<!-- 4588871184 -->\n<g class=\"node\" id=\"node26\">\n<title>4588871184</title>\n<text font-family=\"Times,serif\" font-size=\"14.00\" text-anchor=\"middle\" x=\"187\" y=\"-158.3\">@any</text>\n</g>\n<!-- 4588869968&#45;&gt;4588871184 -->\n<g class=\"edge\" id=\"edge20\">\n<title>4588869968-&gt;4588871184</title>\n<path d=\"M202.26,-216.41C200.04,-208.62 197.32,-199.14 194.81,-190.33\" fill=\"none\" stroke=\"black\"/>\n<polygon fill=\"black\" points=\"198.1,-189.1 191.98,-180.45 191.37,-191.02 198.1,-189.1\" stroke=\"black\"/>\n</g>\n<!-- 4588868176 -->\n<g class=\"node\" id=\"node27\">\n<title>4588868176</title>\n<ellipse cx=\"250\" cy=\"-162\" fill=\"none\" rx=\"18\" ry=\"18\" stroke=\"black\"/>\n<text font-family=\"Times,serif\" font-size=\"14.00\" text-anchor=\"middle\" x=\"250\" y=\"-158.3\">.</text>\n</g>\n<!-- 4588869968&#45;&gt;4588868176 -->\n<g class=\"edge\" id=\"edge21\">\n<title>4588869968-&gt;4588868176</title>\n<path d=\"M216.12,-218.15C221.76,-208.97 229.13,-196.97 235.56,-186.51\" fill=\"none\" stroke=\"black\"/>\n<polygon fill=\"black\" points=\"238.64,-188.18 240.89,-177.82 232.68,-184.51 238.64,-188.18\" stroke=\"black\"/>\n</g>\n<!-- 4588869904 -->\n<g class=\"node\" id=\"node28\">\n<title>4588869904</title>\n<text font-family=\"Times,serif\" font-size=\"14.00\" text-anchor=\"middle\" x=\"203\" y=\"-86.3\">SPACE</text>\n</g>\n<!-- 4588868176&#45;&gt;4588869904 -->\n<g class=\"edge\" id=\"edge18\">\n<title>4588868176-&gt;4588869904</title>\n<path d=\"M240.26,-146.5C234.48,-137.89 226.98,-126.72 220.23,-116.66\" fill=\"none\" stroke=\"black\"/>\n<polygon fill=\"black\" points=\"223.03,-114.55 214.55,-108.2 217.22,-118.46 223.03,-114.55\" stroke=\"black\"/>\n</g>\n<!-- 4588870224 -->\n<g class=\"node\" id=\"node29\">\n<title>4588870224</title>\n<ellipse cx=\"269\" cy=\"-90\" fill=\"none\" rx=\"18\" ry=\"18\" stroke=\"black\"/>\n<text font-family=\"Times,serif\" font-size=\"14.00\" text-anchor=\"middle\" x=\"269\" y=\"-86.3\">*</text>\n</g>\n<!-- 4588868176&#45;&gt;4588870224 -->\n<g class=\"edge\" id=\"edge19\">\n<title>4588868176-&gt;4588870224</title>\n<path d=\"M254.5,-144.41C256.7,-136.3 259.4,-126.35 261.88,-117.25\" fill=\"none\" stroke=\"black\"/>\n<polygon fill=\"black\" points=\"265.29,-118.04 264.53,-107.47 258.53,-116.2 265.29,-118.04\" stroke=\"black\"/>\n</g>\n<!-- 4588869136 -->\n<g class=\"node\" id=\"node30\">\n<title>4588869136</title>\n<text font-family=\"Times,serif\" font-size=\"14.00\" text-anchor=\"middle\" x=\"269\" y=\"-14.3\">SPACE</text>\n</g>\n<!-- 4588870224&#45;&gt;4588869136 -->\n<g class=\"edge\" id=\"edge17\">\n<title>4588870224-&gt;4588869136</title>\n<path d=\"M269,-71.7C269,-63.98 269,-54.71 269,-46.11\" fill=\"none\" stroke=\"black\"/>\n<polygon fill=\"black\" points=\"272.5,-46.1 269,-36.1 265.5,-46.1 272.5,-46.1\" stroke=\"black\"/>\n</g>\n</g>\n</svg>",
      "text/plain": [
       "<IPython.core.display.SVG object>"
      ]
     },
     "metadata": {}
    }
   ],
   "metadata": {}
  },
  {
   "cell_type": "code",
   "execution_count": 38,
   "source": [
    "\"\"\"InvariantNFA's can be created directly, or more commonly constructed by using\n",
    "a regular expression and the Converter.\n",
    "\n",
    "Regular NFA's don't support the 2**16_unicode, [char classes], @any\n",
    "and rely on an alphabet.\n",
    "\"\"\"\n",
    "\n",
    "from benchmark.convert import Converter\n",
    "re = Converter().math(\"(@any + [0-9])*\") # <== experiment by changing this string\n",
    "infa = re.toInvariantNFA(\"nfaPosition\") # <== experiment with: nfaPD, nfaPDO, nfaPosition, nfaFollow, nfaGlushkov, nfaThompson\n",
    "infa.display()"
   ],
   "outputs": [
    {
     "output_type": "display_data",
     "data": {
      "image/svg+xml": "<svg height=\"124pt\" viewBox=\"0.00 0.00 318.60 124.00\" width=\"319pt\" xmlns=\"http://www.w3.org/2000/svg\" xmlns:xlink=\"http://www.w3.org/1999/xlink\">\n<g class=\"graph\" id=\"graph0\" transform=\"scale(1 1) rotate(0) translate(4 120)\">\n<title>finite_state_machine</title>\n<polygon fill=\"white\" points=\"-4,4 -4,-120 314.6,-120 314.6,4 -4,4\" stroke=\"transparent\"/>\n<!-- dummy0 -->\n<g class=\"node\" id=\"node1\">\n<title>dummy0</title>\n<ellipse cx=\"1.8\" cy=\"-22\" fill=\"black\" rx=\"1.8\" ry=\"1.8\" stroke=\"black\"/>\n</g>\n<!-- 0 -->\n<g class=\"node\" id=\"node2\">\n<title>0</title>\n<ellipse cx=\"62.6\" cy=\"-22\" fill=\"none\" rx=\"18\" ry=\"18\" stroke=\"black\"/>\n<ellipse cx=\"62.6\" cy=\"-22\" fill=\"none\" rx=\"22\" ry=\"22\" stroke=\"black\"/>\n<text font-family=\"Times,serif\" font-size=\"14.00\" text-anchor=\"middle\" x=\"62.6\" y=\"-18.3\">0</text>\n</g>\n<!-- dummy0&#45;&gt;0 -->\n<g class=\"edge\" id=\"edge1\">\n<title>dummy0-&gt;0</title>\n<path d=\"M3.82,-22C7.19,-22 18.44,-22 30.12,-22\" fill=\"none\" stroke=\"black\"/>\n<polygon fill=\"black\" points=\"30.31,-25.5 40.31,-22 30.31,-18.5 30.31,-25.5\" stroke=\"black\"/>\n</g>\n<!-- 1 -->\n<g class=\"node\" id=\"node3\">\n<title>1</title>\n<ellipse cx=\"175.6\" cy=\"-61\" fill=\"none\" rx=\"18\" ry=\"18\" stroke=\"black\"/>\n<ellipse cx=\"175.6\" cy=\"-61\" fill=\"none\" rx=\"22\" ry=\"22\" stroke=\"black\"/>\n<text font-family=\"Times,serif\" font-size=\"14.00\" text-anchor=\"middle\" x=\"175.6\" y=\"-57.3\">1</text>\n</g>\n<!-- 0&#45;&gt;1 -->\n<g class=\"edge\" id=\"edge2\">\n<title>0-&gt;1</title>\n<path d=\"M83.7,-29.06C100.83,-35.08 125.69,-43.81 145.08,-50.63\" fill=\"none\" stroke=\"black\"/>\n<polygon fill=\"black\" points=\"144.05,-53.98 154.65,-53.99 146.37,-47.37 144.05,-53.98\" stroke=\"black\"/>\n<text font-family=\"Times,serif\" font-size=\"14.00\" text-anchor=\"middle\" x=\"119.1\" y=\"-50.8\">@any</text>\n</g>\n<!-- 2 -->\n<g class=\"node\" id=\"node4\">\n<title>2</title>\n<ellipse cx=\"288.6\" cy=\"-39\" fill=\"none\" rx=\"18\" ry=\"18\" stroke=\"black\"/>\n<ellipse cx=\"288.6\" cy=\"-39\" fill=\"none\" rx=\"22\" ry=\"22\" stroke=\"black\"/>\n<text font-family=\"Times,serif\" font-size=\"14.00\" text-anchor=\"middle\" x=\"288.6\" y=\"-35.3\">2</text>\n</g>\n<!-- 0&#45;&gt;2 -->\n<g class=\"edge\" id=\"edge7\">\n<title>0-&gt;2</title>\n<path d=\"M84.58,-18.55C111.04,-14.74 157.87,-9.79 197.6,-15 218.11,-17.69 240.59,-23.68 257.95,-29\" fill=\"none\" stroke=\"black\"/>\n<polygon fill=\"black\" points=\"256.94,-32.36 267.53,-32.03 259.05,-25.68 256.94,-32.36\" stroke=\"black\"/>\n<text font-family=\"Times,serif\" font-size=\"14.00\" text-anchor=\"middle\" x=\"175.6\" y=\"-18.8\">[0-9]</text>\n</g>\n<!-- 1&#45;&gt;1 -->\n<g class=\"edge\" id=\"edge5\">\n<title>1-&gt;1</title>\n<path d=\"M165.53,-80.76C163.82,-91.35 167.18,-101 175.6,-101 181.13,-101 184.47,-96.84 185.63,-90.99\" fill=\"none\" stroke=\"black\"/>\n<polygon fill=\"black\" points=\"189.14,-90.77 185.67,-80.76 182.14,-90.75 189.14,-90.77\" stroke=\"black\"/>\n<text font-family=\"Times,serif\" font-size=\"14.00\" text-anchor=\"middle\" x=\"175.6\" y=\"-104.8\">@any</text>\n</g>\n<!-- 1&#45;&gt;2 -->\n<g class=\"edge\" id=\"edge3\">\n<title>1-&gt;2</title>\n<path d=\"M197.66,-60.93C212.16,-60.48 231.77,-59.05 248.6,-55 252.05,-54.17 255.59,-53.08 259.06,-51.86\" fill=\"none\" stroke=\"black\"/>\n<polygon fill=\"black\" points=\"260.49,-55.06 268.55,-48.18 257.96,-48.53 260.49,-55.06\" stroke=\"black\"/>\n<text font-family=\"Times,serif\" font-size=\"14.00\" text-anchor=\"middle\" x=\"232.1\" y=\"-62.8\">[0-9]</text>\n</g>\n<!-- 2&#45;&gt;1 -->\n<g class=\"edge\" id=\"edge4\">\n<title>2-&gt;1</title>\n<path d=\"M267,-34.68C252.37,-32.43 232.41,-31.08 215.6,-36 210.83,-37.4 206.1,-39.57 201.66,-42.07\" fill=\"none\" stroke=\"black\"/>\n<polygon fill=\"black\" points=\"199.62,-39.22 193.03,-47.51 203.36,-45.14 199.62,-39.22\" stroke=\"black\"/>\n<text font-family=\"Times,serif\" font-size=\"14.00\" text-anchor=\"middle\" x=\"232.1\" y=\"-39.8\">@any</text>\n</g>\n<!-- 2&#45;&gt;2 -->\n<g class=\"edge\" id=\"edge6\">\n<title>2-&gt;2</title>\n<path d=\"M278.53,-58.76C276.82,-69.35 280.18,-79 288.6,-79 294.13,-79 297.47,-74.84 298.63,-68.99\" fill=\"none\" stroke=\"black\"/>\n<polygon fill=\"black\" points=\"302.14,-68.77 298.67,-58.76 295.14,-68.75 302.14,-68.77\" stroke=\"black\"/>\n<text font-family=\"Times,serif\" font-size=\"14.00\" text-anchor=\"middle\" x=\"288.6\" y=\"-82.8\">[0-9]</text>\n</g>\n</g>\n</svg>",
      "text/plain": [
       "<IPython.core.display.SVG object>"
      ]
     },
     "metadata": {}
    }
   ],
   "metadata": {}
  },
  {
   "cell_type": "code",
   "execution_count": 39,
   "source": [
    "\"\"\"Languages can be enumerated by the EnumInvariantNFA object.\"\"\"\n",
    "\n",
    "from benchmark.convert import Converter\n",
    "enum = Converter().math(\"(0 + 1)*\").toInvariantNFA(\"nfaPosition\").enumNFA()\n",
    "\n",
    "print \"Enumerate the first n words\"\n",
    "n = 20\n",
    "l = list()\n",
    "for word in enum:\n",
    "    l.append(word)\n",
    "    if len(l) >= n: break\n",
    "print \"\\t\", l\n",
    "print \"\\tOr equivalently:\"\n",
    "print \"\\t\", list(enum.enum(n))\n",
    "\n",
    "print \"\\nEnumerate all words of length 3 to 4 (inclusive)\"\n",
    "print \"\\t\", list(enum.enumCrossSection(2, 3))"
   ],
   "outputs": [
    {
     "output_type": "stream",
     "name": "stdout",
     "text": [
      "Enumerate the first n words\n",
      "\t[u'', u'0', u'1', u'00', u'01', u'10', u'11', u'000', u'001', u'010', u'011', u'100', u'101', u'110', u'111', u'0000', u'0001', u'0010', u'0011', u'0100']\n",
      "\tOr equivalently:\n",
      "\t[u'', u'0', u'1', u'00', u'01', u'10', u'11', u'000', u'001', u'010', u'011', u'100', u'101', u'110', u'111', u'0000', u'0001', u'0010', u'0011', u'0100']\n",
      "\n",
      "Enumerate all words of length 3 to 4 (inclusive)\n",
      "\t[u'00', u'01', u'10', u'11', u'000', u'001', u'010', u'011', u'100', u'101', u'110', u'111']\n"
     ]
    }
   ],
   "metadata": {}
  },
  {
   "cell_type": "code",
   "execution_count": 40,
   "source": [
    "\"\"\"Evaluating membership can be done in many ways:\n",
    "\n",
    "1. regexp tree evalWordP (derivatives)\n",
    "2. regexp tree evalWordPBacktrack (backtracking algorithm similar to commonly used regex engines)\n",
    "3. InvariantNFA(nfaPD construction) evalWordP\n",
    "4. InvariantNFA(nfaPDO construction) evalWordP\n",
    "5. InvariantNFA(nfaPosition construction) evalWordP\n",
    "6. InvariantNFA(nfaFollow construction) evalWordP\n",
    "7. InvariantNFA(nfaGlushkov construction) evalWordP\n",
    "8. InvariantNFA(nfaThompson construction) evalWordP\n",
    "\"\"\"\n",
    "\n",
    "from benchmark.convert import Converter\n",
    "c = Converter()\n",
    "\n",
    "expr = \"^[xX][abcdefABCDEF0-9]+$\"\n",
    "accept = \"x00FFE\"\n",
    "reject = \"Xabcdef!\"\n",
    "\n",
    "re = c.prog(expr)\n",
    "def infa(method):\n",
    "    return str(re.toInvariantNFA(method).evalWordP(accept)) + \" \" + str(re.toInvariantNFA(method).evalWordP(reject))\n",
    "\n",
    "print re.evalWordP(accept), re.evalWordP(reject)\n",
    "print re.evalWordPBacktrack(accept), re.evalWordPBacktrack(reject)\n",
    "print infa(\"nfaPD\")\n",
    "print infa(\"nfaPDO\")\n",
    "print infa(\"nfaPosition\")\n",
    "print infa(\"nfaFollow\")\n",
    "print infa(\"nfaGlushkov\")\n",
    "print infa(\"nfaThompson\")"
   ],
   "outputs": [
    {
     "output_type": "stream",
     "name": "stdout",
     "text": [
      "True False\n",
      "True False\n",
      "True False\n",
      "True False\n",
      "True False\n",
      "True False\n",
      "True False\n",
      "True False\n"
     ]
    }
   ],
   "metadata": {}
  },
  {
   "cell_type": "code",
   "execution_count": 41,
   "source": [
    "\"\"\"But which method evaluates the fastest using expressions used by programmers?\n",
    "\n",
    "1. >>> make sample\n",
    "    Collects regular expressions used in different languages and programs found on\n",
    "    public GitHub repositories indexed by https://grep.app\n",
    "2. >>> make bench\n",
    "    Benchmarks the collected expressions and measures the time taken\n",
    "        \n",
    "        \n",
    "        TODO: more details!\n",
    "\"\"\""
   ],
   "outputs": [
    {
     "output_type": "execute_result",
     "data": {
      "text/plain": [
       "'But which method evaluates the fastest using expressions used by programmers?\\n\\n1. >>> make sample\\n    Collects regular expressions used in different languages and programs found on\\n    public GitHub repositories indexed by https://grep.app\\n2. >>> make bench\\n    Benchmarks the collected expressions and measures the time taken\\n        \\n        \\n        TODO: more details!\\n'"
      ]
     },
     "metadata": {},
     "execution_count": 41
    }
   ],
   "metadata": {}
  }
 ],
 "metadata": {
  "orig_nbformat": 4,
  "language_info": {
   "mimetype": "text/x-python",
   "nbconvert_exporter": "python",
   "name": "python",
   "pygments_lexer": "ipython2",
   "version": "2.7.16",
   "file_extension": ".py",
   "codemirror_mode": {
    "version": 2,
    "name": "ipython"
   }
  },
  "kernelspec": {
   "name": "python3",
   "display_name": "Python 2.7.16 64-bit"
  },
  "interpreter": {
   "hash": "767d51c1340bd893661ea55ea3124f6de3c7a262a8b4abca0554b478b1e2ff90"
  }
 },
 "nbformat": 4,
 "nbformat_minor": 2
}