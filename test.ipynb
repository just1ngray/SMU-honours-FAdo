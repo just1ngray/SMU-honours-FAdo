{
 "cells": [
  {
   "cell_type": "code",
   "execution_count": 14,
   "source": [
    "from benchmark.util import UniUtil\n",
    "\n",
    "lines = [\"\"]\n",
    "for i in range(32, 2**16):\n",
    "    content = (UniUtil.chr(i).encode(\"utf-8\").rjust(4) + \" => \" + str(i).ljust(7)).ljust(4+4+7)\n",
    "    if len(lines[-1]) + len(content) <= 120:\n",
    "        lines[-1] += content\n",
    "    else:\n",
    "        lines[-1] += \"\\n\"\n",
    "        lines.append(content)\n",
    "\n",
    "\n",
    "\n",
    "file = open(\"docs/chars.txt\", \"w\")\n",
    "file.write(reduce(lambda p,c: p+c, lines, \"\"))\n",
    "file.close()"
   ],
   "outputs": [],
   "metadata": {}
  },
  {
   "cell_type": "code",
   "execution_count": null,
   "source": [
    "from benchmark.convert import Converter\n",
    "\n",
    "c = Converter()\n",
    "re = c.prog(u\"\\\\$(import|supports|media|font-face|page|-ms-viewport|keyframes|-webkit-keyframes|-moz-document)\")\n",
    "print re\n",
    "infa = re.toInvariantNFA(\"nfaPD\")\n",
    "infa.display()\n",
    "# print infa.witness()"
   ],
   "outputs": [],
   "metadata": {}
  },
  {
   "cell_type": "markdown",
   "source": [
    "# FAdo Witness\n",
    "Implementation: a word in the first non-empty cross-section of length > 0  \n",
    "Expectation: the first non-empty word in radix order"
   ],
   "metadata": {}
  },
  {
   "cell_type": "code",
   "execution_count": 3,
   "source": [
    "from FAdo.reex import str2regexp\n",
    "\n",
    "re = str2regexp(\"((0 + 1) 0)\")\n",
    "nfa = re.nfaPD()\n",
    "nfa.display()\n",
    "print nfa.witness()"
   ],
   "outputs": [
    {
     "output_type": "display_data",
     "data": {
      "text/plain": [
       "<IPython.core.display.SVG object>"
      ],
      "image/svg+xml": "<svg height=\"52pt\" viewBox=\"0.00 0.00 265.60 52.00\" width=\"266pt\" xmlns=\"http://www.w3.org/2000/svg\" xmlns:xlink=\"http://www.w3.org/1999/xlink\">\n<g class=\"graph\" id=\"graph0\" transform=\"scale(1 1) rotate(0) translate(4 48)\">\n<title>finite_state_machine</title>\n<polygon fill=\"white\" points=\"-4,4 -4,-48 261.6,-48 261.6,4 -4,4\" stroke=\"transparent\"/>\n<!-- dummy0 -->\n<g class=\"node\" id=\"node1\">\n<title>dummy0</title>\n<ellipse cx=\"1.8\" cy=\"-22\" fill=\"black\" rx=\"1.8\" ry=\"1.8\" stroke=\"black\"/>\n</g>\n<!-- 0 -->\n<g class=\"node\" id=\"node2\">\n<title>0</title>\n<ellipse cx=\"58.6\" cy=\"-22\" fill=\"none\" rx=\"18\" ry=\"18\" stroke=\"black\"/>\n<text font-family=\"Times,serif\" font-size=\"14.00\" text-anchor=\"middle\" x=\"58.6\" y=\"-18.3\">0</text>\n</g>\n<!-- dummy0&#45;&gt;0 -->\n<g class=\"edge\" id=\"edge1\">\n<title>dummy0-&gt;0</title>\n<path d=\"M3.75,-22C7.11,-22 18.87,-22 30.55,-22\" fill=\"none\" stroke=\"black\"/>\n<polygon fill=\"black\" points=\"30.58,-25.5 40.58,-22 30.58,-18.5 30.58,-25.5\" stroke=\"black\"/>\n</g>\n<!-- 1 -->\n<g class=\"node\" id=\"node3\">\n<title>1</title>\n<ellipse cx=\"152.6\" cy=\"-22\" fill=\"none\" rx=\"18\" ry=\"18\" stroke=\"black\"/>\n<text font-family=\"Times,serif\" font-size=\"14.00\" text-anchor=\"middle\" x=\"152.6\" y=\"-18.3\">1</text>\n</g>\n<!-- 0&#45;&gt;1 -->\n<g class=\"edge\" id=\"edge2\">\n<title>0-&gt;1</title>\n<path d=\"M76.9,-22C90.14,-22 108.65,-22 123.94,-22\" fill=\"none\" stroke=\"black\"/>\n<polygon fill=\"black\" points=\"124.37,-25.5 134.37,-22 124.37,-18.5 124.37,-25.5\" stroke=\"black\"/>\n<text font-family=\"Times,serif\" font-size=\"14.00\" text-anchor=\"middle\" x=\"105.6\" y=\"-25.8\">1, 0</text>\n</g>\n<!-- 2 -->\n<g class=\"node\" id=\"node4\">\n<title>2</title>\n<ellipse cx=\"235.6\" cy=\"-22\" fill=\"none\" rx=\"18\" ry=\"18\" stroke=\"black\"/>\n<ellipse cx=\"235.6\" cy=\"-22\" fill=\"none\" rx=\"22\" ry=\"22\" stroke=\"black\"/>\n<text font-family=\"Times,serif\" font-size=\"14.00\" text-anchor=\"middle\" x=\"235.6\" y=\"-18.3\">2</text>\n</g>\n<!-- 1&#45;&gt;2 -->\n<g class=\"edge\" id=\"edge3\">\n<title>1-&gt;2</title>\n<path d=\"M170.78,-22C180.21,-22 192.2,-22 203.24,-22\" fill=\"none\" stroke=\"black\"/>\n<polygon fill=\"black\" points=\"203.41,-25.5 213.41,-22 203.41,-18.5 203.41,-25.5\" stroke=\"black\"/>\n<text font-family=\"Times,serif\" font-size=\"14.00\" text-anchor=\"middle\" x=\"192.1\" y=\"-25.8\">0</text>\n</g>\n</g>\n</svg>"
     },
     "metadata": {}
    },
    {
     "output_type": "stream",
     "name": "stdout",
     "text": [
      "10\n"
     ]
    }
   ],
   "metadata": {}
  },
  {
   "cell_type": "code",
   "execution_count": null,
   "source": [
    "from FAdo.reex import str2regexp\n",
    "\n",
    "re = str2regexp(\"((0 + 1) 0)\")\n",
    "nfa = re.nfaPD()\n",
    "l = len(nfa.witness())\n",
    "print [nfa.enumNFA(l)]"
   ],
   "outputs": [],
   "metadata": {}
  }
 ],
 "metadata": {
  "orig_nbformat": 4,
  "language_info": {
   "mimetype": "text/x-python",
   "nbconvert_exporter": "python",
   "name": "python",
   "pygments_lexer": "ipython2",
   "version": "2.7.16",
   "file_extension": ".py",
   "codemirror_mode": {
    "version": 2,
    "name": "ipython"
   }
  },
  "kernelspec": {
   "name": "python3",
   "display_name": "Python 2.7.16 64-bit"
  },
  "interpreter": {
   "hash": "767d51c1340bd893661ea55ea3124f6de3c7a262a8b4abca0554b478b1e2ff90"
  }
 },
 "nbformat": 4,
 "nbformat_minor": 2
}