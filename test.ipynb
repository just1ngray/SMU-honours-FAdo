{
 "cells": [
  {
   "cell_type": "code",
   "execution_count": null,
   "source": [
    "# GENERATE docs/chars.txt TABLE OF ORDINALS => SYMBOL MAPPINGS\n",
    "from benchmark.util import UniUtil\n",
    "\n",
    "lines = [\"\"]\n",
    "for i in range(32, 2**16):\n",
    "    content = (UniUtil.chr(i).encode(\"utf-8\").rjust(4) + \" => \" + str(i).ljust(7)).ljust(4+4+7)\n",
    "    if len(lines[-1]) + len(content) <= 120:\n",
    "        lines[-1] += content\n",
    "    else:\n",
    "        lines[-1] += \"\\n\"\n",
    "        lines.append(content)\n",
    "\n",
    "\n",
    "\n",
    "file = open(\"docs/chars.txt\", \"w\")\n",
    "file.write(reduce(lambda p,c: p+c, lines, \"\"))\n",
    "file.close()"
   ],
   "outputs": [],
   "metadata": {}
  },
  {
   "cell_type": "code",
   "execution_count": 1,
   "source": [
    "# FAdo BACKTRACKING DEMO\n",
    "from benchmark.convert import Converter\n",
    "from timeit import timeit, time\n",
    "\n",
    "evil = \"(a + a)*\"\n",
    "re = Converter().math(evil)\n",
    "startT = time.time()\n",
    "i = 0\n",
    "\n",
    "print \"   iter        derivative  backtrack\"\n",
    "while startT + 60 > time.time():\n",
    "    word = \"a\"*i + \"b\"\n",
    "    print \"'a'*{0:<2} + 'b'\".format(i).ljust(10),\n",
    "    print \"{:10.4f}\".format(timeit(stmt=lambda: re.evalWordP(word), number=1)),\n",
    "    print \"{:10.4f}\".format(timeit(stmt=lambda: re.evalWordPBacktrack(word), number=1))\n",
    "    i += 1"
   ],
   "outputs": [
    {
     "output_type": "stream",
     "name": "stdout",
     "text": [
      "   iter        derivative  backtrack\n",
      "'a'*0  + 'b'     0.0001     0.0000\n",
      "'a'*1  + 'b'     0.0001     0.0000\n",
      "'a'*2  + 'b'     0.0001     0.0000\n",
      "'a'*3  + 'b'     0.0001     0.0000\n",
      "'a'*4  + 'b'     0.0001     0.0001\n",
      "'a'*5  + 'b'     0.0002     0.0002\n",
      "'a'*6  + 'b'     0.0002     0.0004\n",
      "'a'*7  + 'b'     0.0003     0.0007\n",
      "'a'*8  + 'b'     0.0003     0.0015\n",
      "'a'*9  + 'b'     0.0004     0.0033\n",
      "'a'*10 + 'b'     0.0008     0.0080\n",
      "'a'*11 + 'b'     0.0009     0.0167\n",
      "'a'*12 + 'b'     0.0009     0.0211\n",
      "'a'*13 + 'b'     0.0007     0.0286\n",
      "'a'*14 + 'b'     0.0008     0.0581\n",
      "'a'*15 + 'b'     0.0016     0.1244\n",
      "'a'*16 + 'b'     0.0009     0.2360\n",
      "'a'*17 + 'b'     0.0011     0.4720\n",
      "'a'*18 + 'b'     0.0011     0.9341\n",
      "'a'*19 + 'b'     0.0016     1.9016\n",
      "'a'*20 + 'b'     0.0017     3.8947\n",
      "'a'*21 + 'b'     0.0015     7.8399\n",
      "'a'*22 + 'b'     0.0016    15.9349\n",
      "'a'*23 + 'b'     0.0020    32.7979\n"
     ]
    }
   ],
   "metadata": {}
  },
  {
   "cell_type": "code",
   "execution_count": 5,
   "source": [
    "import timeit\n",
    "from benchmark.convert import Converter\n",
    "expr = \"(8* (((((((P U) R) E) + (((((I M) P) U) R) E)) + ((((((((E L) E) M) E) N) T) A) L)) + ((((((((R E) C) U) R) S) I) V) E)) ((((((P U) R) E) + (((((I M) P) U) R) E)) + ((((((((E L) E) M) E) N) T) A) L)) + ((((((((R E) C) U) R) S) I) V) E))*))\"\n",
    "n = 500\n",
    "re = Converter().math(expr)\n",
    "\n",
    "def timed(method):\n",
    "    re.toInvariantNFA(method)\n",
    "\n",
    "print \"nfaPD: \", timeit.timeit(stmt=lambda: timed(\"nfaPD\"), number=n)\n",
    "print \"nfaPDO:\", timeit.timeit(stmt=lambda: timed(\"nfaPDO\"), number=n)"
   ],
   "outputs": [
    {
     "output_type": "stream",
     "name": "stdout",
     "text": [
      "nfaPD:  28.2238969803\n",
      "nfaPDO: 25.9618690014\n"
     ]
    }
   ],
   "metadata": {}
  },
  {
   "cell_type": "code",
   "execution_count": 4,
   "source": [
    "import timeit\n",
    "from FAdo import reex\n",
    "expr = \"(8* (((((((P U) R) E) + (((((I M) P) U) R) E)) + ((((((((E L) E) M) E) N) T) A) L)) + ((((((((R E) C) U) R) S) I) V) E)) ((((((P U) R) E) + (((((I M) P) U) R) E)) + ((((((((E L) E) M) E) N) T) A) L)) + ((((((((R E) C) U) R) S) I) V) E))*))\"\n",
    "n = 500\n",
    "re = reex.str2regexp(expr)\n",
    "\n",
    "def timed(method):\n",
    "    re.toNFA(method)\n",
    "\n",
    "print \"nfaPD: \", timeit.timeit(stmt=lambda: timed(\"nfaPD\"), number=n)\n",
    "print \"nfaPDO:\", timeit.timeit(stmt=lambda: timed(\"nfaPDO\"), number=n)"
   ],
   "outputs": [
    {
     "output_type": "stream",
     "name": "stdout",
     "text": [
      "nfaPD:  9.47548413277\n",
      "nfaPDO: 8.65009689331\n"
     ]
    }
   ],
   "metadata": {}
  }
 ],
 "metadata": {
  "orig_nbformat": 4,
  "language_info": {
   "mimetype": "text/x-python",
   "nbconvert_exporter": "python",
   "name": "python",
   "pygments_lexer": "ipython2",
   "version": "2.7.16",
   "file_extension": ".py",
   "codemirror_mode": {
    "version": 2,
    "name": "ipython"
   }
  },
  "kernelspec": {
   "name": "python3",
   "display_name": "Python 2.7.16 64-bit"
  },
  "interpreter": {
   "hash": "767d51c1340bd893661ea55ea3124f6de3c7a262a8b4abca0554b478b1e2ff90"
  }
 },
 "nbformat": 4,
 "nbformat_minor": 2
}