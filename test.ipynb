{
 "cells": [
  {
   "cell_type": "code",
   "execution_count": null,
   "metadata": {},
   "outputs": [],
   "source": [
    "# GENERATE docs/chars.txt TABLE OF ORDINALS => SYMBOL MAPPINGS\n",
    "from benchmark.util import UniUtil\n",
    "\n",
    "lines = [\"\"]\n",
    "for i in range(32, 2**16):\n",
    "    content = (UniUtil.chr(i).encode(\"utf-8\").rjust(4) + \" => \" + str(i).ljust(7)).ljust(4+4+7)\n",
    "    if len(lines[-1]) + len(content) <= 120:\n",
    "        lines[-1] += content\n",
    "    else:\n",
    "        lines[-1] += \"\\n\"\n",
    "        lines.append(content)\n",
    "\n",
    "\n",
    "\n",
    "file = open(\"docs/chars.txt\", \"w\")\n",
    "file.write(reduce(lambda p,c: p+c, lines, \"\"))\n",
    "file.close()"
   ]
  },
  {
   "cell_type": "code",
   "execution_count": 1,
   "metadata": {},
   "outputs": [
    {
     "name": "stdout",
     "output_type": "stream",
     "text": [
      "   iter        derivative  backtrack\n",
      "'a'*0  + 'b'     0.0001     0.0000\n",
      "'a'*1  + 'b'     0.0001     0.0000\n",
      "'a'*2  + 'b'     0.0001     0.0000\n",
      "'a'*3  + 'b'     0.0001     0.0000\n",
      "'a'*4  + 'b'     0.0001     0.0001\n",
      "'a'*5  + 'b'     0.0002     0.0001\n",
      "'a'*6  + 'b'     0.0002     0.0002\n",
      "'a'*7  + 'b'     0.0003     0.0006\n",
      "'a'*8  + 'b'     0.0003     0.0019\n",
      "'a'*9  + 'b'     0.0002     0.0030\n",
      "'a'*10 + 'b'     0.0003     0.0068\n",
      "'a'*11 + 'b'     0.0002     0.0114\n",
      "'a'*12 + 'b'     0.0002     0.0258\n",
      "'a'*13 + 'b'     0.0004     0.0388\n",
      "'a'*14 + 'b'     0.0003     0.0597\n",
      "'a'*15 + 'b'     0.0003     0.1187\n",
      "'a'*16 + 'b'     0.0003     0.2495\n",
      "'a'*17 + 'b'     0.0003     0.4883\n",
      "'a'*18 + 'b'     0.0004     0.9556\n",
      "'a'*19 + 'b'     0.0003     1.9467\n",
      "'a'*20 + 'b'     0.0004     3.8564\n",
      "'a'*21 + 'b'     0.0003     7.8410\n",
      "'a'*22 + 'b'     0.0004    15.7955\n",
      "'a'*23 + 'b'     0.0004    32.1275\n"
     ]
    }
   ],
   "source": [
    "# FAdo BACKTRACKING DEMO\n",
    "from benchmark.convert import Converter\n",
    "from timeit import timeit, time\n",
    "\n",
    "evil = \"(a + a)*\"\n",
    "re = Converter().math(evil)\n",
    "startT = time.time()\n",
    "i = 0\n",
    "\n",
    "print \"   iter        derivative  backtrack\"\n",
    "while startT + 60 > time.time():\n",
    "    word = \"a\"*i + \"b\"\n",
    "    print \"'a'*{0:<2} + 'b'\".format(i).ljust(10),\n",
    "    print \"{:10.4f}\".format(timeit(stmt=lambda: re.evalWordP_PD(word), number=1)),\n",
    "    print \"{:10.4f}\".format(timeit(stmt=lambda: re.evalWordP_Backtrack(word), number=1))\n",
    "    i += 1"
   ]
  },
  {
   "cell_type": "code",
   "execution_count": 3,
   "metadata": {},
   "outputs": [
    {
     "name": "stdout",
     "output_type": "stream",
     "text": [
      "accepts only 2048 a's\n",
      "True\n"
     ]
    }
   ],
   "source": [
    "from FAdo.reex import atom, concat\n",
    "\n",
    "def f(n):\n",
    "    if n == 0:\n",
    "        return atom(\"a\")\n",
    "    return concat(arg1=f(n - 1), arg2=f(n - 1))\n",
    "\n",
    "depth = 10\n",
    "wordlen = 2**(depth + 1)\n",
    "re = concat(arg1=f(depth), arg2=f(depth))\n",
    "\n",
    "print \"accepts only\", wordlen, \"a's\"\n",
    "print re.evalWordP(\"a\"*wordlen)"
   ]
  },
  {
   "cell_type": "code",
   "execution_count": 1,
   "metadata": {},
   "outputs": [
    {
     "data": {
      "image/svg+xml": "<svg height=\"177pt\" viewBox=\"0.00 0.00 345.60 177.19\" width=\"346pt\" xmlns=\"http://www.w3.org/2000/svg\" xmlns:xlink=\"http://www.w3.org/1999/xlink\">\n<g class=\"graph\" id=\"graph0\" transform=\"scale(1 1) rotate(0) translate(4 173.19)\">\n<title>finite_state_machine</title>\n<polygon fill=\"white\" points=\"-4,4 -4,-173.19 341.6,-173.19 341.6,4 -4,4\" stroke=\"transparent\"/>\n<!-- dummy0 -->\n<g class=\"node\" id=\"node1\">\n<title>dummy0</title>\n<ellipse cx=\"1.8\" cy=\"-80.19\" fill=\"black\" rx=\"1.8\" ry=\"1.8\" stroke=\"black\"/>\n</g>\n<!-- 0 -->\n<g class=\"node\" id=\"node2\">\n<title>0</title>\n<ellipse cx=\"62.6\" cy=\"-80.19\" fill=\"none\" rx=\"18\" ry=\"18\" stroke=\"black\"/>\n<ellipse cx=\"62.6\" cy=\"-80.19\" fill=\"none\" rx=\"22\" ry=\"22\" stroke=\"black\"/>\n<text font-family=\"Times,serif\" font-size=\"14.00\" text-anchor=\"middle\" x=\"62.6\" y=\"-76.49\">0</text>\n</g>\n<!-- dummy0&#45;&gt;0 -->\n<g class=\"edge\" id=\"edge1\">\n<title>dummy0-&gt;0</title>\n<path d=\"M3.82,-80.19C7.19,-80.19 18.44,-80.19 30.12,-80.19\" fill=\"none\" stroke=\"black\"/>\n<polygon fill=\"black\" points=\"30.31,-83.69 40.31,-80.19 30.31,-76.69 30.31,-83.69\" stroke=\"black\"/>\n</g>\n<!-- 1 -->\n<g class=\"node\" id=\"node3\">\n<title>1</title>\n<ellipse cx=\"145.6\" cy=\"-126.19\" fill=\"none\" rx=\"18\" ry=\"18\" stroke=\"black\"/>\n<text font-family=\"Times,serif\" font-size=\"14.00\" text-anchor=\"middle\" x=\"145.6\" y=\"-122.49\">1</text>\n</g>\n<!-- 0&#45;&gt;1 -->\n<g class=\"edge\" id=\"edge2\">\n<title>0-&gt;1</title>\n<path d=\"M81.98,-90.63C93.44,-97.13 108.3,-105.58 120.67,-112.6\" fill=\"none\" stroke=\"black\"/>\n<polygon fill=\"black\" points=\"119.12,-115.75 129.55,-117.64 122.58,-109.66 119.12,-115.75\" stroke=\"black\"/>\n<text font-family=\"Times,serif\" font-size=\"14.00\" text-anchor=\"middle\" x=\"106.1\" y=\"-108.99\">a</text>\n</g>\n<!-- 2 -->\n<g class=\"node\" id=\"node4\">\n<title>2</title>\n<ellipse cx=\"315.6\" cy=\"-57.19\" fill=\"none\" rx=\"18\" ry=\"18\" stroke=\"black\"/>\n<ellipse cx=\"315.6\" cy=\"-57.19\" fill=\"none\" rx=\"22\" ry=\"22\" stroke=\"black\"/>\n<text font-family=\"Times,serif\" font-size=\"14.00\" text-anchor=\"middle\" x=\"315.6\" y=\"-53.49\">2</text>\n</g>\n<!-- 0&#45;&gt;2 -->\n<g class=\"edge\" id=\"edge9\">\n<title>0-&gt;2</title>\n<path d=\"M84.76,-79.62C123.01,-78.37 206.15,-74.73 275.6,-65.19 278.33,-64.82 281.16,-64.36 283.98,-63.87\" fill=\"none\" stroke=\"black\"/>\n<polygon fill=\"black\" points=\"284.88,-67.26 294.04,-61.94 283.56,-60.38 284.88,-67.26\" stroke=\"black\"/>\n<text font-family=\"Times,serif\" font-size=\"14.00\" text-anchor=\"middle\" x=\"185.1\" y=\"-77.99\">a</text>\n</g>\n<!-- 3 -->\n<g class=\"node\" id=\"node5\">\n<title>3</title>\n<ellipse cx=\"145.6\" cy=\"-34.19\" fill=\"none\" rx=\"18\" ry=\"18\" stroke=\"black\"/>\n<text font-family=\"Times,serif\" font-size=\"14.00\" text-anchor=\"middle\" x=\"145.6\" y=\"-30.49\">3</text>\n</g>\n<!-- 0&#45;&gt;3 -->\n<g class=\"edge\" id=\"edge7\">\n<title>0-&gt;3</title>\n<path d=\"M80.05,-66.5C86.78,-61.3 94.8,-55.57 102.6,-51.19 107.66,-48.35 113.29,-45.73 118.74,-43.45\" fill=\"none\" stroke=\"black\"/>\n<polygon fill=\"black\" points=\"120.18,-46.64 128.2,-39.72 117.61,-40.13 120.18,-46.64\" stroke=\"black\"/>\n<text font-family=\"Times,serif\" font-size=\"14.00\" text-anchor=\"middle\" x=\"106.1\" y=\"-54.99\">a</text>\n</g>\n<!-- 5 -->\n<g class=\"node\" id=\"node7\">\n<title>5</title>\n<ellipse cx=\"228.6\" cy=\"-147.19\" fill=\"none\" rx=\"18\" ry=\"18\" stroke=\"black\"/>\n<ellipse cx=\"228.6\" cy=\"-147.19\" fill=\"none\" rx=\"22\" ry=\"22\" stroke=\"black\"/>\n<text font-family=\"Times,serif\" font-size=\"14.00\" text-anchor=\"middle\" x=\"228.6\" y=\"-143.49\">5</text>\n</g>\n<!-- 1&#45;&gt;5 -->\n<g class=\"edge\" id=\"edge3\">\n<title>1-&gt;5</title>\n<path d=\"M162.84,-132.28C168.7,-134.33 175.4,-136.53 181.6,-138.19 186.45,-139.49 191.64,-140.69 196.72,-141.75\" fill=\"none\" stroke=\"black\"/>\n<polygon fill=\"black\" points=\"196.36,-145.25 206.85,-143.76 197.72,-138.38 196.36,-145.25\" stroke=\"black\"/>\n<text font-family=\"Times,serif\" font-size=\"14.00\" text-anchor=\"middle\" x=\"185.1\" y=\"-142.99\">b</text>\n</g>\n<!-- 4 -->\n<g class=\"node\" id=\"node6\">\n<title>4</title>\n<ellipse cx=\"228.6\" cy=\"-34.19\" fill=\"none\" rx=\"18\" ry=\"18\" stroke=\"black\"/>\n<text font-family=\"Times,serif\" font-size=\"14.00\" text-anchor=\"middle\" x=\"228.6\" y=\"-30.49\">4</text>\n</g>\n<!-- 3&#45;&gt;4 -->\n<g class=\"edge\" id=\"edge8\">\n<title>3-&gt;4</title>\n<path d=\"M163.78,-34.19C174.41,-34.19 188.29,-34.19 200.4,-34.19\" fill=\"none\" stroke=\"black\"/>\n<polygon fill=\"black\" points=\"200.45,-37.69 210.45,-34.19 200.45,-30.69 200.45,-37.69\" stroke=\"black\"/>\n<text font-family=\"Times,serif\" font-size=\"14.00\" text-anchor=\"middle\" x=\"185.1\" y=\"-37.99\">b</text>\n</g>\n<!-- 4&#45;&gt;2 -->\n<g class=\"edge\" id=\"edge6\">\n<title>4-&gt;2</title>\n<path d=\"M246.39,-38.73C257.24,-41.67 271.65,-45.57 284.44,-49.03\" fill=\"none\" stroke=\"black\"/>\n<polygon fill=\"black\" points=\"283.68,-52.45 294.24,-51.68 285.51,-45.69 283.68,-52.45\" stroke=\"black\"/>\n<text font-family=\"Times,serif\" font-size=\"14.00\" text-anchor=\"middle\" x=\"272.1\" y=\"-49.99\">a</text>\n</g>\n<!-- 4&#45;&gt;3 -->\n<g class=\"edge\" id=\"edge4\">\n<title>4-&gt;3</title>\n<path d=\"M216.1,-20.62C209.01,-13.35 199.26,-5.1 188.6,-1.19 178.93,2.35 169.76,-3.38 162.46,-11.02\" fill=\"none\" stroke=\"black\"/>\n<polygon fill=\"black\" points=\"159.52,-9.07 155.84,-19.01 164.91,-13.54 159.52,-9.07\" stroke=\"black\"/>\n<text font-family=\"Times,serif\" font-size=\"14.00\" text-anchor=\"middle\" x=\"185.1\" y=\"-4.99\">a</text>\n</g>\n<!-- 5&#45;&gt;1 -->\n<g class=\"edge\" id=\"edge5\">\n<title>5-&gt;1</title>\n<path d=\"M211.78,-132.4C205.14,-127.16 197.01,-121.9 188.6,-119.19 183.54,-117.56 178.01,-117.4 172.67,-118.01\" fill=\"none\" stroke=\"black\"/>\n<polygon fill=\"black\" points=\"171.95,-114.59 162.82,-119.95 173.31,-121.45 171.95,-114.59\" stroke=\"black\"/>\n<text font-family=\"Times,serif\" font-size=\"14.00\" text-anchor=\"middle\" x=\"185.1\" y=\"-122.99\">a</text>\n</g>\n</g>\n</svg>",
      "text/plain": [
       "<IPython.core.display.SVG object>"
      ]
     },
     "metadata": {},
     "output_type": "display_data"
    },
    {
     "name": "stdout",
     "output_type": "stream",
     "text": [
      "nfaPD: 1.81414198875\n"
     ]
    },
    {
     "data": {
      "image/svg+xml": "<svg height=\"177pt\" viewBox=\"0.00 0.00 345.60 177.19\" width=\"346pt\" xmlns=\"http://www.w3.org/2000/svg\" xmlns:xlink=\"http://www.w3.org/1999/xlink\">\n<g class=\"graph\" id=\"graph0\" transform=\"scale(1 1) rotate(0) translate(4 173.19)\">\n<title>finite_state_machine</title>\n<polygon fill=\"white\" points=\"-4,4 -4,-173.19 341.6,-173.19 341.6,4 -4,4\" stroke=\"transparent\"/>\n<!-- dummy0 -->\n<g class=\"node\" id=\"node1\">\n<title>dummy0</title>\n<ellipse cx=\"1.8\" cy=\"-80.19\" fill=\"black\" rx=\"1.8\" ry=\"1.8\" stroke=\"black\"/>\n</g>\n<!-- 0 -->\n<g class=\"node\" id=\"node2\">\n<title>0</title>\n<ellipse cx=\"62.6\" cy=\"-80.19\" fill=\"none\" rx=\"18\" ry=\"18\" stroke=\"black\"/>\n<ellipse cx=\"62.6\" cy=\"-80.19\" fill=\"none\" rx=\"22\" ry=\"22\" stroke=\"black\"/>\n<text font-family=\"Times,serif\" font-size=\"14.00\" text-anchor=\"middle\" x=\"62.6\" y=\"-76.49\">0</text>\n</g>\n<!-- dummy0&#45;&gt;0 -->\n<g class=\"edge\" id=\"edge1\">\n<title>dummy0-&gt;0</title>\n<path d=\"M3.82,-80.19C7.19,-80.19 18.44,-80.19 30.12,-80.19\" fill=\"none\" stroke=\"black\"/>\n<polygon fill=\"black\" points=\"30.31,-83.69 40.31,-80.19 30.31,-76.69 30.31,-83.69\" stroke=\"black\"/>\n</g>\n<!-- 1 -->\n<g class=\"node\" id=\"node3\">\n<title>1</title>\n<ellipse cx=\"145.6\" cy=\"-126.19\" fill=\"none\" rx=\"18\" ry=\"18\" stroke=\"black\"/>\n<text font-family=\"Times,serif\" font-size=\"14.00\" text-anchor=\"middle\" x=\"145.6\" y=\"-122.49\">1</text>\n</g>\n<!-- 0&#45;&gt;1 -->\n<g class=\"edge\" id=\"edge2\">\n<title>0-&gt;1</title>\n<path d=\"M81.98,-90.63C93.44,-97.13 108.3,-105.58 120.67,-112.6\" fill=\"none\" stroke=\"black\"/>\n<polygon fill=\"black\" points=\"119.12,-115.75 129.55,-117.64 122.58,-109.66 119.12,-115.75\" stroke=\"black\"/>\n<text font-family=\"Times,serif\" font-size=\"14.00\" text-anchor=\"middle\" x=\"106.1\" y=\"-108.99\">a</text>\n</g>\n<!-- 2 -->\n<g class=\"node\" id=\"node4\">\n<title>2</title>\n<ellipse cx=\"315.6\" cy=\"-57.19\" fill=\"none\" rx=\"18\" ry=\"18\" stroke=\"black\"/>\n<ellipse cx=\"315.6\" cy=\"-57.19\" fill=\"none\" rx=\"22\" ry=\"22\" stroke=\"black\"/>\n<text font-family=\"Times,serif\" font-size=\"14.00\" text-anchor=\"middle\" x=\"315.6\" y=\"-53.49\">2</text>\n</g>\n<!-- 0&#45;&gt;2 -->\n<g class=\"edge\" id=\"edge9\">\n<title>0-&gt;2</title>\n<path d=\"M84.76,-79.62C123.01,-78.37 206.15,-74.73 275.6,-65.19 278.33,-64.82 281.16,-64.36 283.98,-63.87\" fill=\"none\" stroke=\"black\"/>\n<polygon fill=\"black\" points=\"284.88,-67.26 294.04,-61.94 283.56,-60.38 284.88,-67.26\" stroke=\"black\"/>\n<text font-family=\"Times,serif\" font-size=\"14.00\" text-anchor=\"middle\" x=\"185.1\" y=\"-77.99\">a</text>\n</g>\n<!-- 3 -->\n<g class=\"node\" id=\"node5\">\n<title>3</title>\n<ellipse cx=\"145.6\" cy=\"-34.19\" fill=\"none\" rx=\"18\" ry=\"18\" stroke=\"black\"/>\n<text font-family=\"Times,serif\" font-size=\"14.00\" text-anchor=\"middle\" x=\"145.6\" y=\"-30.49\">3</text>\n</g>\n<!-- 0&#45;&gt;3 -->\n<g class=\"edge\" id=\"edge7\">\n<title>0-&gt;3</title>\n<path d=\"M80.05,-66.5C86.78,-61.3 94.8,-55.57 102.6,-51.19 107.66,-48.35 113.29,-45.73 118.74,-43.45\" fill=\"none\" stroke=\"black\"/>\n<polygon fill=\"black\" points=\"120.18,-46.64 128.2,-39.72 117.61,-40.13 120.18,-46.64\" stroke=\"black\"/>\n<text font-family=\"Times,serif\" font-size=\"14.00\" text-anchor=\"middle\" x=\"106.1\" y=\"-54.99\">a</text>\n</g>\n<!-- 5 -->\n<g class=\"node\" id=\"node7\">\n<title>5</title>\n<ellipse cx=\"228.6\" cy=\"-147.19\" fill=\"none\" rx=\"18\" ry=\"18\" stroke=\"black\"/>\n<ellipse cx=\"228.6\" cy=\"-147.19\" fill=\"none\" rx=\"22\" ry=\"22\" stroke=\"black\"/>\n<text font-family=\"Times,serif\" font-size=\"14.00\" text-anchor=\"middle\" x=\"228.6\" y=\"-143.49\">5</text>\n</g>\n<!-- 1&#45;&gt;5 -->\n<g class=\"edge\" id=\"edge3\">\n<title>1-&gt;5</title>\n<path d=\"M162.84,-132.28C168.7,-134.33 175.4,-136.53 181.6,-138.19 186.45,-139.49 191.64,-140.69 196.72,-141.75\" fill=\"none\" stroke=\"black\"/>\n<polygon fill=\"black\" points=\"196.36,-145.25 206.85,-143.76 197.72,-138.38 196.36,-145.25\" stroke=\"black\"/>\n<text font-family=\"Times,serif\" font-size=\"14.00\" text-anchor=\"middle\" x=\"185.1\" y=\"-142.99\">b</text>\n</g>\n<!-- 4 -->\n<g class=\"node\" id=\"node6\">\n<title>4</title>\n<ellipse cx=\"228.6\" cy=\"-34.19\" fill=\"none\" rx=\"18\" ry=\"18\" stroke=\"black\"/>\n<text font-family=\"Times,serif\" font-size=\"14.00\" text-anchor=\"middle\" x=\"228.6\" y=\"-30.49\">4</text>\n</g>\n<!-- 3&#45;&gt;4 -->\n<g class=\"edge\" id=\"edge8\">\n<title>3-&gt;4</title>\n<path d=\"M163.78,-34.19C174.41,-34.19 188.29,-34.19 200.4,-34.19\" fill=\"none\" stroke=\"black\"/>\n<polygon fill=\"black\" points=\"200.45,-37.69 210.45,-34.19 200.45,-30.69 200.45,-37.69\" stroke=\"black\"/>\n<text font-family=\"Times,serif\" font-size=\"14.00\" text-anchor=\"middle\" x=\"185.1\" y=\"-37.99\">b</text>\n</g>\n<!-- 4&#45;&gt;2 -->\n<g class=\"edge\" id=\"edge6\">\n<title>4-&gt;2</title>\n<path d=\"M246.39,-38.73C257.24,-41.67 271.65,-45.57 284.44,-49.03\" fill=\"none\" stroke=\"black\"/>\n<polygon fill=\"black\" points=\"283.68,-52.45 294.24,-51.68 285.51,-45.69 283.68,-52.45\" stroke=\"black\"/>\n<text font-family=\"Times,serif\" font-size=\"14.00\" text-anchor=\"middle\" x=\"272.1\" y=\"-49.99\">a</text>\n</g>\n<!-- 4&#45;&gt;3 -->\n<g class=\"edge\" id=\"edge4\">\n<title>4-&gt;3</title>\n<path d=\"M216.1,-20.62C209.01,-13.35 199.26,-5.1 188.6,-1.19 178.93,2.35 169.76,-3.38 162.46,-11.02\" fill=\"none\" stroke=\"black\"/>\n<polygon fill=\"black\" points=\"159.52,-9.07 155.84,-19.01 164.91,-13.54 159.52,-9.07\" stroke=\"black\"/>\n<text font-family=\"Times,serif\" font-size=\"14.00\" text-anchor=\"middle\" x=\"185.1\" y=\"-4.99\">a</text>\n</g>\n<!-- 5&#45;&gt;1 -->\n<g class=\"edge\" id=\"edge5\">\n<title>5-&gt;1</title>\n<path d=\"M211.78,-132.4C205.14,-127.16 197.01,-121.9 188.6,-119.19 183.54,-117.56 178.01,-117.4 172.67,-118.01\" fill=\"none\" stroke=\"black\"/>\n<polygon fill=\"black\" points=\"171.95,-114.59 162.82,-119.95 173.31,-121.45 171.95,-114.59\" stroke=\"black\"/>\n<text font-family=\"Times,serif\" font-size=\"14.00\" text-anchor=\"middle\" x=\"185.1\" y=\"-122.99\">a</text>\n</g>\n</g>\n</svg>",
      "text/plain": [
       "<IPython.core.display.SVG object>"
      ]
     },
     "metadata": {},
     "output_type": "display_data"
    },
    {
     "name": "stdout",
     "output_type": "stream",
     "text": [
      "nfaPDO: 1.49107599258\n"
     ]
    },
    {
     "data": {
      "image/svg+xml": "<svg height=\"177pt\" viewBox=\"0.00 0.00 345.60 177.19\" width=\"346pt\" xmlns=\"http://www.w3.org/2000/svg\" xmlns:xlink=\"http://www.w3.org/1999/xlink\">\n<g class=\"graph\" id=\"graph0\" transform=\"scale(1 1) rotate(0) translate(4 173.19)\">\n<title>finite_state_machine</title>\n<polygon fill=\"white\" points=\"-4,4 -4,-173.19 341.6,-173.19 341.6,4 -4,4\" stroke=\"transparent\"/>\n<!-- dummy0 -->\n<g class=\"node\" id=\"node1\">\n<title>dummy0</title>\n<ellipse cx=\"1.8\" cy=\"-80.19\" fill=\"black\" rx=\"1.8\" ry=\"1.8\" stroke=\"black\"/>\n</g>\n<!-- 0 -->\n<g class=\"node\" id=\"node2\">\n<title>0</title>\n<ellipse cx=\"62.6\" cy=\"-80.19\" fill=\"none\" rx=\"18\" ry=\"18\" stroke=\"black\"/>\n<ellipse cx=\"62.6\" cy=\"-80.19\" fill=\"none\" rx=\"22\" ry=\"22\" stroke=\"black\"/>\n<text font-family=\"Times,serif\" font-size=\"14.00\" text-anchor=\"middle\" x=\"62.6\" y=\"-76.49\">0</text>\n</g>\n<!-- dummy0&#45;&gt;0 -->\n<g class=\"edge\" id=\"edge1\">\n<title>dummy0-&gt;0</title>\n<path d=\"M3.82,-80.19C7.19,-80.19 18.44,-80.19 30.12,-80.19\" fill=\"none\" stroke=\"black\"/>\n<polygon fill=\"black\" points=\"30.31,-83.69 40.31,-80.19 30.31,-76.69 30.31,-83.69\" stroke=\"black\"/>\n</g>\n<!-- 1 -->\n<g class=\"node\" id=\"node3\">\n<title>1</title>\n<ellipse cx=\"145.6\" cy=\"-126.19\" fill=\"none\" rx=\"18\" ry=\"18\" stroke=\"black\"/>\n<text font-family=\"Times,serif\" font-size=\"14.00\" text-anchor=\"middle\" x=\"145.6\" y=\"-122.49\">1</text>\n</g>\n<!-- 0&#45;&gt;1 -->\n<g class=\"edge\" id=\"edge2\">\n<title>0-&gt;1</title>\n<path d=\"M81.98,-90.63C93.44,-97.13 108.3,-105.58 120.67,-112.6\" fill=\"none\" stroke=\"black\"/>\n<polygon fill=\"black\" points=\"119.12,-115.75 129.55,-117.64 122.58,-109.66 119.12,-115.75\" stroke=\"black\"/>\n<text font-family=\"Times,serif\" font-size=\"14.00\" text-anchor=\"middle\" x=\"106.1\" y=\"-108.99\">a</text>\n</g>\n<!-- 2 -->\n<g class=\"node\" id=\"node4\">\n<title>2</title>\n<ellipse cx=\"315.6\" cy=\"-57.19\" fill=\"none\" rx=\"18\" ry=\"18\" stroke=\"black\"/>\n<ellipse cx=\"315.6\" cy=\"-57.19\" fill=\"none\" rx=\"22\" ry=\"22\" stroke=\"black\"/>\n<text font-family=\"Times,serif\" font-size=\"14.00\" text-anchor=\"middle\" x=\"315.6\" y=\"-53.49\">2</text>\n</g>\n<!-- 0&#45;&gt;2 -->\n<g class=\"edge\" id=\"edge8\">\n<title>0-&gt;2</title>\n<path d=\"M84.76,-79.62C123.01,-78.37 206.15,-74.73 275.6,-65.19 278.33,-64.82 281.16,-64.36 283.98,-63.87\" fill=\"none\" stroke=\"black\"/>\n<polygon fill=\"black\" points=\"284.88,-67.26 294.04,-61.94 283.56,-60.38 284.88,-67.26\" stroke=\"black\"/>\n<text font-family=\"Times,serif\" font-size=\"14.00\" text-anchor=\"middle\" x=\"185.1\" y=\"-77.99\">a</text>\n</g>\n<!-- 3 -->\n<g class=\"node\" id=\"node5\">\n<title>3</title>\n<ellipse cx=\"145.6\" cy=\"-34.19\" fill=\"none\" rx=\"18\" ry=\"18\" stroke=\"black\"/>\n<text font-family=\"Times,serif\" font-size=\"14.00\" text-anchor=\"middle\" x=\"145.6\" y=\"-30.49\">3</text>\n</g>\n<!-- 0&#45;&gt;3 -->\n<g class=\"edge\" id=\"edge5\">\n<title>0-&gt;3</title>\n<path d=\"M80.05,-66.5C86.78,-61.3 94.8,-55.57 102.6,-51.19 107.66,-48.35 113.29,-45.73 118.74,-43.45\" fill=\"none\" stroke=\"black\"/>\n<polygon fill=\"black\" points=\"120.18,-46.64 128.2,-39.72 117.61,-40.13 120.18,-46.64\" stroke=\"black\"/>\n<text font-family=\"Times,serif\" font-size=\"14.00\" text-anchor=\"middle\" x=\"106.1\" y=\"-54.99\">a</text>\n</g>\n<!-- 4 -->\n<g class=\"node\" id=\"node6\">\n<title>4</title>\n<ellipse cx=\"228.6\" cy=\"-147.19\" fill=\"none\" rx=\"18\" ry=\"18\" stroke=\"black\"/>\n<ellipse cx=\"228.6\" cy=\"-147.19\" fill=\"none\" rx=\"22\" ry=\"22\" stroke=\"black\"/>\n<text font-family=\"Times,serif\" font-size=\"14.00\" text-anchor=\"middle\" x=\"228.6\" y=\"-143.49\">4</text>\n</g>\n<!-- 1&#45;&gt;4 -->\n<g class=\"edge\" id=\"edge4\">\n<title>1-&gt;4</title>\n<path d=\"M162.84,-132.28C168.7,-134.33 175.4,-136.53 181.6,-138.19 186.45,-139.49 191.64,-140.69 196.72,-141.75\" fill=\"none\" stroke=\"black\"/>\n<polygon fill=\"black\" points=\"196.36,-145.25 206.85,-143.76 197.72,-138.38 196.36,-145.25\" stroke=\"black\"/>\n<text font-family=\"Times,serif\" font-size=\"14.00\" text-anchor=\"middle\" x=\"185.1\" y=\"-142.99\">b</text>\n</g>\n<!-- 5 -->\n<g class=\"node\" id=\"node7\">\n<title>5</title>\n<ellipse cx=\"228.6\" cy=\"-34.19\" fill=\"none\" rx=\"18\" ry=\"18\" stroke=\"black\"/>\n<text font-family=\"Times,serif\" font-size=\"14.00\" text-anchor=\"middle\" x=\"228.6\" y=\"-30.49\">5</text>\n</g>\n<!-- 3&#45;&gt;5 -->\n<g class=\"edge\" id=\"edge9\">\n<title>3-&gt;5</title>\n<path d=\"M163.78,-34.19C174.41,-34.19 188.29,-34.19 200.4,-34.19\" fill=\"none\" stroke=\"black\"/>\n<polygon fill=\"black\" points=\"200.45,-37.69 210.45,-34.19 200.45,-30.69 200.45,-37.69\" stroke=\"black\"/>\n<text font-family=\"Times,serif\" font-size=\"14.00\" text-anchor=\"middle\" x=\"185.1\" y=\"-37.99\">b</text>\n</g>\n<!-- 4&#45;&gt;1 -->\n<g class=\"edge\" id=\"edge7\">\n<title>4-&gt;1</title>\n<path d=\"M211.78,-132.4C205.14,-127.16 197.01,-121.9 188.6,-119.19 183.54,-117.56 178.01,-117.4 172.67,-118.01\" fill=\"none\" stroke=\"black\"/>\n<polygon fill=\"black\" points=\"171.95,-114.59 162.82,-119.95 173.31,-121.45 171.95,-114.59\" stroke=\"black\"/>\n<text font-family=\"Times,serif\" font-size=\"14.00\" text-anchor=\"middle\" x=\"185.1\" y=\"-122.99\">a</text>\n</g>\n<!-- 5&#45;&gt;2 -->\n<g class=\"edge\" id=\"edge3\">\n<title>5-&gt;2</title>\n<path d=\"M246.39,-38.73C257.24,-41.67 271.65,-45.57 284.44,-49.03\" fill=\"none\" stroke=\"black\"/>\n<polygon fill=\"black\" points=\"283.68,-52.45 294.24,-51.68 285.51,-45.69 283.68,-52.45\" stroke=\"black\"/>\n<text font-family=\"Times,serif\" font-size=\"14.00\" text-anchor=\"middle\" x=\"272.1\" y=\"-49.99\">a</text>\n</g>\n<!-- 5&#45;&gt;3 -->\n<g class=\"edge\" id=\"edge6\">\n<title>5-&gt;3</title>\n<path d=\"M216.1,-20.62C209.01,-13.35 199.26,-5.1 188.6,-1.19 178.93,2.35 169.76,-3.38 162.46,-11.02\" fill=\"none\" stroke=\"black\"/>\n<polygon fill=\"black\" points=\"159.52,-9.07 155.84,-19.01 164.91,-13.54 159.52,-9.07\" stroke=\"black\"/>\n<text font-family=\"Times,serif\" font-size=\"14.00\" text-anchor=\"middle\" x=\"185.1\" y=\"-4.99\">a</text>\n</g>\n</g>\n</svg>",
      "text/plain": [
       "<IPython.core.display.SVG object>"
      ]
     },
     "metadata": {},
     "output_type": "display_data"
    },
    {
     "name": "stdout",
     "output_type": "stream",
     "text": [
      "nfaPDK: 0.384010076523\n"
     ]
    }
   ],
   "source": [
    "import timeit\n",
    "from benchmark.convert import Converter\n",
    "c = Converter()\n",
    "\n",
    "re = c.prog(\"((ab)*a)|(ab)*\", partialMatch=False)\n",
    "n = 2500\n",
    "r = 3\n",
    "\n",
    "results = dict()\n",
    "order = [re.nfaPD, re.nfaPDO, re.nfaPDK] * r\n",
    "for method in order:\n",
    "    time = timeit.timeit(lambda: method(), number=n)\n",
    "    results[method.__name__] = min(results.get(method.__name__, float(\"inf\")), time)\n",
    "\n",
    "re.nfaPD().display()\n",
    "print \"nfaPD:\", results[\"nfaPD\"]\n",
    "\n",
    "re.nfaPDO().display()\n",
    "print \"nfaPDO:\", results[\"nfaPDO\"]\n",
    "\n",
    "re.nfaPDK().display()\n",
    "print \"nfaPDK:\", results[\"nfaPDK\"]"
   ]
  },
  {
   "cell_type": "code",
   "execution_count": 4,
   "metadata": {},
   "outputs": [
    {
     "data": {
      "image/svg+xml": "<svg height=\"139pt\" viewBox=\"0.00 0.00 62.00 139.00\" width=\"62pt\" xmlns=\"http://www.w3.org/2000/svg\" xmlns:xlink=\"http://www.w3.org/1999/xlink\">\n<g class=\"graph\" id=\"graph0\" transform=\"scale(1 1) rotate(0) translate(4 135)\">\n<polygon fill=\"white\" points=\"-4,4 -4,-135 58,-135 58,4 -4,4\" stroke=\"transparent\"/>\n<text font-family=\"Times,serif\" font-size=\"14.00\" text-anchor=\"middle\" x=\"27\" y=\"-115.8\">a?</text>\n<!-- 4450782736 -->\n<g class=\"node\" id=\"node1\">\n<title>4450782736</title>\n<ellipse cx=\"27\" cy=\"-90\" fill=\"none\" rx=\"18\" ry=\"18\" stroke=\"black\"/>\n<text font-family=\"Times,serif\" font-size=\"14.00\" text-anchor=\"middle\" x=\"27\" y=\"-86.3\">?</text>\n</g>\n<!-- 4445245840 -->\n<g class=\"node\" id=\"node2\">\n<title>4445245840</title>\n<text font-family=\"Times,serif\" font-size=\"14.00\" text-anchor=\"middle\" x=\"27\" y=\"-14.3\">a</text>\n</g>\n<!-- 4450782736&#45;&gt;4445245840 -->\n<g class=\"edge\" id=\"edge1\">\n<title>4450782736-&gt;4445245840</title>\n<path d=\"M27,-71.7C27,-63.98 27,-54.71 27,-46.11\" fill=\"none\" stroke=\"black\"/>\n<polygon fill=\"black\" points=\"30.5,-46.1 27,-36.1 23.5,-46.1 30.5,-46.1\" stroke=\"black\"/>\n</g>\n</g>\n</svg>",
      "text/plain": [
       "<IPython.core.display.SVG object>"
      ]
     },
     "metadata": {},
     "output_type": "display_data"
    },
    {
     "data": {
      "image/svg+xml": "<svg height=\"139pt\" viewBox=\"0.00 0.00 62.00 139.00\" width=\"62pt\" xmlns=\"http://www.w3.org/2000/svg\" xmlns:xlink=\"http://www.w3.org/1999/xlink\">\n<g class=\"graph\" id=\"graph0\" transform=\"scale(1 1) rotate(0) translate(4 135)\">\n<polygon fill=\"white\" points=\"-4,4 -4,-135 58,-135 58,4 -4,4\" stroke=\"transparent\"/>\n<text font-family=\"Times,serif\" font-size=\"14.00\" text-anchor=\"middle\" x=\"27\" y=\"-115.8\">a*</text>\n<!-- 4450688976 -->\n<g class=\"node\" id=\"node1\">\n<title>4450688976</title>\n<ellipse cx=\"27\" cy=\"-90\" fill=\"none\" rx=\"18\" ry=\"18\" stroke=\"black\"/>\n<text font-family=\"Times,serif\" font-size=\"14.00\" text-anchor=\"middle\" x=\"27\" y=\"-86.3\">*</text>\n</g>\n<!-- 4450758928 -->\n<g class=\"node\" id=\"node2\">\n<title>4450758928</title>\n<text font-family=\"Times,serif\" font-size=\"14.00\" text-anchor=\"middle\" x=\"27\" y=\"-14.3\">a</text>\n</g>\n<!-- 4450688976&#45;&gt;4450758928 -->\n<g class=\"edge\" id=\"edge1\">\n<title>4450688976-&gt;4450758928</title>\n<path d=\"M27,-71.7C27,-63.98 27,-54.71 27,-46.11\" fill=\"none\" stroke=\"black\"/>\n<polygon fill=\"black\" points=\"30.5,-46.1 27,-36.1 23.5,-46.1 30.5,-46.1\" stroke=\"black\"/>\n</g>\n</g>\n</svg>",
      "text/plain": [
       "<IPython.core.display.SVG object>"
      ]
     },
     "metadata": {},
     "output_type": "display_data"
    },
    {
     "name": "stdout",
     "output_type": "stream",
     "text": [
      "set([u'a', u'aa', u''])\n"
     ]
    }
   ],
   "source": [
    "from benchmark.convert import Converter\n",
    "re = Converter().math(\"a?\")\n",
    "re.display()\n",
    "re.compress().display()\n",
    "words = re.pairGen()\n",
    "print words"
   ]
  }
 ],
 "metadata": {
  "interpreter": {
   "hash": "767d51c1340bd893661ea55ea3124f6de3c7a262a8b4abca0554b478b1e2ff90"
  },
  "kernelspec": {
   "display_name": "Python 2.7.16 64-bit",
   "name": "python3"
  },
  "language_info": {
   "codemirror_mode": {
    "name": "ipython",
    "version": 2
   },
   "file_extension": ".py",
   "mimetype": "text/x-python",
   "name": "python",
   "nbconvert_exporter": "python",
   "pygments_lexer": "ipython2",
   "version": "2.7.18"
  },
  "orig_nbformat": 4
 },
 "nbformat": 4,
 "nbformat_minor": 2
}
