{
 "cells": [
  {
   "cell_type": "code",
   "execution_count": null,
   "source": [
    "# GENERATE docs/chars.txt TABLE OF ORDINALS => SYMBOL MAPPINGS\n",
    "from benchmark.util import UniUtil\n",
    "\n",
    "lines = [\"\"]\n",
    "for i in range(32, 2**16):\n",
    "    content = (UniUtil.chr(i).encode(\"utf-8\").rjust(4) + \" => \" + str(i).ljust(7)).ljust(4+4+7)\n",
    "    if len(lines[-1]) + len(content) <= 120:\n",
    "        lines[-1] += content\n",
    "    else:\n",
    "        lines[-1] += \"\\n\"\n",
    "        lines.append(content)\n",
    "\n",
    "\n",
    "\n",
    "file = open(\"docs/chars.txt\", \"w\")\n",
    "file.write(reduce(lambda p,c: p+c, lines, \"\"))\n",
    "file.close()"
   ],
   "outputs": [],
   "metadata": {}
  },
  {
   "cell_type": "code",
   "execution_count": 1,
   "source": [
    "# FAdo BACKTRACKING DEMO\n",
    "from benchmark.convert import Converter\n",
    "\n",
    "evil = \"(a + a)*\"\n",
    "re = Converter().math(evil)\n",
    "\n",
    "print \"iter derivative backtrack\"\n",
    "for i in range(30):\n",
    "    word = \"a\"*i + \"b\"\n",
    "    print str(i).ljust(4),\n",
    "    print str(re.evalWordP(word)).ljust(10),\n",
    "    print re.evalWordPBacktrack(word)"
   ],
   "outputs": [
    {
     "output_type": "stream",
     "name": "stdout",
     "text": [
      "iter derivative backtrack\n",
      "0    False      False\n",
      "1    False      False\n",
      "2    False      False\n",
      "3    False      False\n",
      "4    False      False\n",
      "5    False      False\n",
      "6    False      False\n",
      "7    False      False\n",
      "8    False      False\n",
      "9    False      False\n",
      "10   False      False\n",
      "11   False      False\n",
      "12   False      False\n",
      "13   False      False\n",
      "14   False      False\n",
      "15   False      False\n",
      "16   False      False\n",
      "17   False      False\n",
      "18   False      False\n",
      "19   False      False\n",
      "20   False      False\n",
      "21   False      False\n",
      "22   False     "
     ]
    }
   ],
   "metadata": {}
  },
  {
   "cell_type": "code",
   "execution_count": null,
   "source": [
    "# CATASTROPHIC BACKTRACKING ISSUE IN PYTHON'S RE MODULE\n",
    "import re\n",
    "expr = re.compile(\"(a|aa)*b+\")\n",
    "print expr.search(\"a\"*35 + \"c\")"
   ],
   "outputs": [],
   "metadata": {}
  }
 ],
 "metadata": {
  "orig_nbformat": 4,
  "language_info": {
   "mimetype": "text/x-python",
   "nbconvert_exporter": "python",
   "name": "python",
   "pygments_lexer": "ipython2",
   "version": "2.7.16",
   "file_extension": ".py",
   "codemirror_mode": {
    "version": 2,
    "name": "ipython"
   }
  },
  "kernelspec": {
   "name": "python3",
   "display_name": "Python 2.7.16 64-bit"
  },
  "interpreter": {
   "hash": "767d51c1340bd893661ea55ea3124f6de3c7a262a8b4abca0554b478b1e2ff90"
  }
 },
 "nbformat": 4,
 "nbformat_minor": 2
}