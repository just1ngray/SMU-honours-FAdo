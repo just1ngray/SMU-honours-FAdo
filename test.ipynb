{
 "metadata": {
  "language_info": {
   "mimetype": "text/x-python",
   "nbconvert_exporter": "python",
   "name": "python",
   "pygments_lexer": "ipython2",
   "version": "2.7.16",
   "file_extension": ".py",
   "codemirror_mode": {
    "version": 2,
    "name": "ipython"
   }
  },
  "orig_nbformat": 4,
  "kernelspec": {
   "name": "python3",
   "display_name": "Python 2.7.16 64-bit"
  },
  "interpreter": {
   "hash": "767d51c1340bd893661ea55ea3124f6de3c7a262a8b4abca0554b478b1e2ff90"
  }
 },
 "nbformat": 4,
 "nbformat_minor": 2,
 "cells": [
  {
   "cell_type": "code",
   "execution_count": 8,
   "source": [
    "id = 0\n",
    "\n",
    "class DummyClass(object):\n",
    "    def __init__(self):\n",
    "        self.id = globals()[\"id\"]\n",
    "        globals()[\"id\"] += 1\n",
    "\n",
    "    def __lt__(self, other):\n",
    "        return self.id < other.id\n",
    "\n",
    "    def __str__(self):\n",
    "        return \"DummyClass(\"+str(self.id)+\")\"\n",
    "\n",
    "a = DummyClass()\n",
    "b = DummyClass()\n",
    "\n",
    "print a, b\n",
    "print min(a, b)\n",
    "print min(b, a)\n",
    "print max(a, b)\n",
    "print max(b, a)"
   ],
   "outputs": [
    {
     "output_type": "stream",
     "name": "stdout",
     "text": [
      "DummyClass(0) DummyClass(1)\n",
      "DummyClass(0)\n",
      "DummyClass(0)\n",
      "DummyClass(1)\n",
      "DummyClass(1)\n"
     ]
    }
   ],
   "metadata": {}
  }
 ]
}