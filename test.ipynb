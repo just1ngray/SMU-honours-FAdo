{
 "cells": [
  {
   "cell_type": "code",
   "execution_count": null,
   "source": [
    "# GENERATE docs/chars.txt TABLE OF ORDINALS => SYMBOL MAPPINGS\n",
    "from benchmark.util import UniUtil\n",
    "\n",
    "lines = [\"\"]\n",
    "for i in range(32, 2**16):\n",
    "    content = (UniUtil.chr(i).encode(\"utf-8\").rjust(4) + \" => \" + str(i).ljust(7)).ljust(4+4+7)\n",
    "    if len(lines[-1]) + len(content) <= 120:\n",
    "        lines[-1] += content\n",
    "    else:\n",
    "        lines[-1] += \"\\n\"\n",
    "        lines.append(content)\n",
    "\n",
    "\n",
    "\n",
    "file = open(\"docs/chars.txt\", \"w\")\n",
    "file.write(reduce(lambda p,c: p+c, lines, \"\"))\n",
    "file.close()"
   ],
   "outputs": [],
   "metadata": {}
  },
  {
   "cell_type": "code",
   "execution_count": 1,
   "source": [
    "# FAdo BACKTRACKING DEMO\n",
    "from benchmark.convert import Converter\n",
    "from timeit import timeit, time\n",
    "\n",
    "evil = \"(a + a)*\"\n",
    "re = Converter().math(evil)\n",
    "startT = time.time()\n",
    "i = 0\n",
    "\n",
    "print \"   iter        derivative  backtrack\"\n",
    "while startT + 60 > time.time():\n",
    "    word = \"a\"*i + \"b\"\n",
    "    print \"'a'*{0:<2} + 'b'\".format(i).ljust(10),\n",
    "    print \"{:10.4f}\".format(timeit(stmt=lambda: re.evalWordP(word), number=1)),\n",
    "    print \"{:10.4f}\".format(timeit(stmt=lambda: re.evalWordPBacktrack(word), number=1))\n",
    "    i += 1"
   ],
   "outputs": [
    {
     "output_type": "stream",
     "name": "stdout",
     "text": [
      "   iter        derivative  backtrack\n",
      "'a'*0  + 'b'     0.0001     0.0000\n",
      "'a'*1  + 'b'     0.0001     0.0000\n",
      "'a'*2  + 'b'     0.0001     0.0000\n",
      "'a'*3  + 'b'     0.0001     0.0000\n",
      "'a'*4  + 'b'     0.0001     0.0001\n",
      "'a'*5  + 'b'     0.0002     0.0002\n",
      "'a'*6  + 'b'     0.0002     0.0004\n",
      "'a'*7  + 'b'     0.0003     0.0007\n",
      "'a'*8  + 'b'     0.0003     0.0015\n",
      "'a'*9  + 'b'     0.0004     0.0033\n",
      "'a'*10 + 'b'     0.0008     0.0080\n",
      "'a'*11 + 'b'     0.0009     0.0167\n",
      "'a'*12 + 'b'     0.0009     0.0211\n",
      "'a'*13 + 'b'     0.0007     0.0286\n",
      "'a'*14 + 'b'     0.0008     0.0581\n",
      "'a'*15 + 'b'     0.0016     0.1244\n",
      "'a'*16 + 'b'     0.0009     0.2360\n",
      "'a'*17 + 'b'     0.0011     0.4720\n",
      "'a'*18 + 'b'     0.0011     0.9341\n",
      "'a'*19 + 'b'     0.0016     1.9016\n",
      "'a'*20 + 'b'     0.0017     3.8947\n",
      "'a'*21 + 'b'     0.0015     7.8399\n",
      "'a'*22 + 'b'     0.0016    15.9349\n",
      "'a'*23 + 'b'     0.0020    32.7979\n"
     ]
    }
   ],
   "metadata": {}
  },
  {
   "cell_type": "code",
   "execution_count": 3,
   "source": [
    "from FAdo.reex import atom, concat\n",
    "\n",
    "def f(n):\n",
    "    if n == 0:\n",
    "        return atom(\"a\")\n",
    "    return concat(arg1=f(n - 1), arg2=f(n - 1))\n",
    "\n",
    "depth = 10\n",
    "wordlen = 2**(depth + 1)\n",
    "re = concat(arg1=f(depth), arg2=f(depth))\n",
    "\n",
    "print \"accepts only\", wordlen, \"a's\"\n",
    "print re.evalWordP(\"a\"*wordlen)"
   ],
   "outputs": [
    {
     "output_type": "stream",
     "name": "stdout",
     "text": [
      "accepts only 2048 a's\n",
      "True\n"
     ]
    }
   ],
   "metadata": {}
  },
  {
   "cell_type": "code",
   "execution_count": 1,
   "source": [
    "from benchmark.convert import Converter\n",
    "c = Converter()\n",
    "\n",
    "re = c.prog(\"((ab)*a)|(ab)*\", partialMatch=False)\n",
    "re.display()\n",
    "words = re.pairGen()\n",
    "\n",
    "re.compress()\n",
    "for w in words:\n",
    "    assert re.evalWordPBacktrack(w) == True\n",
    "    assert re.evalWordP(w) == True\n",
    "print \"All\", len(words), \"words were properly accepted!\"\n",
    "re.display()\n"
   ],
   "outputs": [
    {
     "output_type": "display_data",
     "data": {
      "image/svg+xml": "<svg height=\"355pt\" viewBox=\"0.00 0.00 264.00 355.00\" width=\"264pt\" xmlns=\"http://www.w3.org/2000/svg\" xmlns:xlink=\"http://www.w3.org/1999/xlink\">\n<g class=\"graph\" id=\"graph0\" transform=\"scale(1 1) rotate(0) translate(4 351)\">\n<polygon fill=\"white\" points=\"-4,4 -4,-351 260,-351 260,4 -4,4\" stroke=\"transparent\"/>\n<text font-family=\"Times,serif\" font-size=\"14.00\" text-anchor=\"middle\" x=\"128\" y=\"-331.8\">(((a b)* a) + (a b)*)</text>\n<!-- 4567604944 -->\n<g class=\"node\" id=\"node1\">\n<title>4567604944</title>\n<ellipse cx=\"153\" cy=\"-306\" fill=\"none\" rx=\"18\" ry=\"18\" stroke=\"black\"/>\n<text font-family=\"Times,serif\" font-size=\"14.00\" text-anchor=\"middle\" x=\"153\" y=\"-302.3\">+</text>\n</g>\n<!-- 4567604752 -->\n<g class=\"node\" id=\"node2\">\n<title>4567604752</title>\n<ellipse cx=\"126\" cy=\"-234\" fill=\"none\" rx=\"18\" ry=\"18\" stroke=\"black\"/>\n<text font-family=\"Times,serif\" font-size=\"14.00\" text-anchor=\"middle\" x=\"126\" y=\"-230.3\">.</text>\n</g>\n<!-- 4567604944&#45;&gt;4567604752 -->\n<g class=\"edge\" id=\"edge9\">\n<title>4567604944-&gt;4567604752</title>\n<path d=\"M146.74,-288.76C143.5,-280.37 139.47,-269.93 135.83,-260.5\" fill=\"none\" stroke=\"black\"/>\n<polygon fill=\"black\" points=\"139.09,-259.22 132.23,-251.15 132.56,-261.74 139.09,-259.22\" stroke=\"black\"/>\n</g>\n<!-- 4567603728 -->\n<g class=\"node\" id=\"node8\">\n<title>4567603728</title>\n<ellipse cx=\"184\" cy=\"-234\" fill=\"none\" rx=\"18\" ry=\"18\" stroke=\"black\"/>\n<text font-family=\"Times,serif\" font-size=\"14.00\" text-anchor=\"middle\" x=\"184\" y=\"-230.3\">*</text>\n</g>\n<!-- 4567604944&#45;&gt;4567603728 -->\n<g class=\"edge\" id=\"edge10\">\n<title>4567604944-&gt;4567603728</title>\n<path d=\"M160.03,-289.12C163.84,-280.52 168.63,-269.72 172.92,-260.02\" fill=\"none\" stroke=\"black\"/>\n<polygon fill=\"black\" points=\"176.14,-261.38 176.99,-250.82 169.74,-258.55 176.14,-261.38\" stroke=\"black\"/>\n</g>\n<!-- 4567602192 -->\n<g class=\"node\" id=\"node3\">\n<title>4567602192</title>\n<ellipse cx=\"63\" cy=\"-162\" fill=\"none\" rx=\"18\" ry=\"18\" stroke=\"black\"/>\n<text font-family=\"Times,serif\" font-size=\"14.00\" text-anchor=\"middle\" x=\"63\" y=\"-158.3\">*</text>\n</g>\n<!-- 4567604752&#45;&gt;4567602192 -->\n<g class=\"edge\" id=\"edge4\">\n<title>4567604752-&gt;4567602192</title>\n<path d=\"M114.44,-220.16C105.32,-210.03 92.41,-195.68 81.81,-183.9\" fill=\"none\" stroke=\"black\"/>\n<polygon fill=\"black\" points=\"84.2,-181.32 74.91,-176.23 79,-186.01 84.2,-181.32\" stroke=\"black\"/>\n</g>\n<!-- 4567603856 -->\n<g class=\"node\" id=\"node7\">\n<title>4567603856</title>\n<text font-family=\"Times,serif\" font-size=\"14.00\" text-anchor=\"middle\" x=\"126\" y=\"-158.3\">a</text>\n</g>\n<!-- 4567604752&#45;&gt;4567603856 -->\n<g class=\"edge\" id=\"edge5\">\n<title>4567604752-&gt;4567603856</title>\n<path d=\"M126,-215.7C126,-207.98 126,-198.71 126,-190.11\" fill=\"none\" stroke=\"black\"/>\n<polygon fill=\"black\" points=\"129.5,-190.1 126,-180.1 122.5,-190.1 129.5,-190.1\" stroke=\"black\"/>\n</g>\n<!-- 4567602768 -->\n<g class=\"node\" id=\"node4\">\n<title>4567602768</title>\n<ellipse cx=\"63\" cy=\"-90\" fill=\"none\" rx=\"18\" ry=\"18\" stroke=\"black\"/>\n<text font-family=\"Times,serif\" font-size=\"14.00\" text-anchor=\"middle\" x=\"63\" y=\"-86.3\">.</text>\n</g>\n<!-- 4567602192&#45;&gt;4567602768 -->\n<g class=\"edge\" id=\"edge3\">\n<title>4567602192-&gt;4567602768</title>\n<path d=\"M63,-143.7C63,-135.98 63,-126.71 63,-118.11\" fill=\"none\" stroke=\"black\"/>\n<polygon fill=\"black\" points=\"66.5,-118.1 63,-108.1 59.5,-118.1 66.5,-118.1\" stroke=\"black\"/>\n</g>\n<!-- 4567602320 -->\n<g class=\"node\" id=\"node5\">\n<title>4567602320</title>\n<text font-family=\"Times,serif\" font-size=\"14.00\" text-anchor=\"middle\" x=\"27\" y=\"-14.3\">a</text>\n</g>\n<!-- 4567602768&#45;&gt;4567602320 -->\n<g class=\"edge\" id=\"edge1\">\n<title>4567602768-&gt;4567602320</title>\n<path d=\"M55.01,-73.46C50.78,-65.25 45.48,-54.93 40.63,-45.5\" fill=\"none\" stroke=\"black\"/>\n<polygon fill=\"black\" points=\"43.67,-43.75 35.98,-36.46 37.44,-46.95 43.67,-43.75\" stroke=\"black\"/>\n</g>\n<!-- 4567604624 -->\n<g class=\"node\" id=\"node6\">\n<title>4567604624</title>\n<text font-family=\"Times,serif\" font-size=\"14.00\" text-anchor=\"middle\" x=\"99\" y=\"-14.3\">b</text>\n</g>\n<!-- 4567602768&#45;&gt;4567604624 -->\n<g class=\"edge\" id=\"edge2\">\n<title>4567602768-&gt;4567604624</title>\n<path d=\"M70.99,-73.46C75.22,-65.25 80.52,-54.93 85.37,-45.5\" fill=\"none\" stroke=\"black\"/>\n<polygon fill=\"black\" points=\"88.56,-46.95 90.02,-36.46 82.33,-43.75 88.56,-46.95\" stroke=\"black\"/>\n</g>\n<!-- 4567603536 -->\n<g class=\"node\" id=\"node9\">\n<title>4567603536</title>\n<ellipse cx=\"189\" cy=\"-162\" fill=\"none\" rx=\"18\" ry=\"18\" stroke=\"black\"/>\n<text font-family=\"Times,serif\" font-size=\"14.00\" text-anchor=\"middle\" x=\"189\" y=\"-158.3\">.</text>\n</g>\n<!-- 4567603728&#45;&gt;4567603536 -->\n<g class=\"edge\" id=\"edge8\">\n<title>4567603728-&gt;4567603536</title>\n<path d=\"M185.24,-215.7C185.79,-207.98 186.45,-198.71 187.06,-190.11\" fill=\"none\" stroke=\"black\"/>\n<polygon fill=\"black\" points=\"190.56,-190.33 187.78,-180.1 183.57,-189.83 190.56,-190.33\" stroke=\"black\"/>\n</g>\n<!-- 4567602896 -->\n<g class=\"node\" id=\"node10\">\n<title>4567602896</title>\n<text font-family=\"Times,serif\" font-size=\"14.00\" text-anchor=\"middle\" x=\"157\" y=\"-86.3\">a</text>\n</g>\n<!-- 4567603536&#45;&gt;4567602896 -->\n<g class=\"edge\" id=\"edge6\">\n<title>4567603536-&gt;4567602896</title>\n<path d=\"M181.74,-145.12C178.02,-136.97 173.38,-126.84 169.14,-117.55\" fill=\"none\" stroke=\"black\"/>\n<polygon fill=\"black\" points=\"172.25,-115.93 164.9,-108.29 165.88,-118.84 172.25,-115.93\" stroke=\"black\"/>\n</g>\n<!-- 4567604816 -->\n<g class=\"node\" id=\"node11\">\n<title>4567604816</title>\n<text font-family=\"Times,serif\" font-size=\"14.00\" text-anchor=\"middle\" x=\"229\" y=\"-86.3\">b</text>\n</g>\n<!-- 4567603536&#45;&gt;4567604816 -->\n<g class=\"edge\" id=\"edge7\">\n<title>4567603536-&gt;4567604816</title>\n<path d=\"M197.68,-145.81C202.49,-137.4 208.59,-126.72 214.13,-117.02\" fill=\"none\" stroke=\"black\"/>\n<polygon fill=\"black\" points=\"217.29,-118.55 219.21,-108.13 211.21,-115.07 217.29,-118.55\" stroke=\"black\"/>\n</g>\n</g>\n</svg>",
      "text/plain": [
       "<IPython.core.display.SVG object>"
      ]
     },
     "metadata": {}
    },
    {
     "output_type": "stream",
     "name": "stdout",
     "text": [
      "All 6 words were properly accepted!\n"
     ]
    },
    {
     "output_type": "display_data",
     "data": {
      "image/svg+xml": "<svg height=\"355pt\" viewBox=\"0.00 0.00 134.00 355.00\" width=\"134pt\" xmlns=\"http://www.w3.org/2000/svg\" xmlns:xlink=\"http://www.w3.org/1999/xlink\">\n<g class=\"graph\" id=\"graph0\" transform=\"scale(1 1) rotate(0) translate(4 351)\">\n<polygon fill=\"white\" points=\"-4,4 -4,-351 130,-351 130,4 -4,4\" stroke=\"transparent\"/>\n<text font-family=\"Times,serif\" font-size=\"14.00\" text-anchor=\"middle\" x=\"63\" y=\"-331.8\">(((a b)* a) + (a b)*)</text>\n<!-- 4567604944 -->\n<g class=\"node\" id=\"node1\">\n<title>4567604944</title>\n<ellipse cx=\"50\" cy=\"-306\" fill=\"none\" rx=\"18\" ry=\"18\" stroke=\"black\"/>\n<text font-family=\"Times,serif\" font-size=\"14.00\" text-anchor=\"middle\" x=\"50\" y=\"-302.3\">+</text>\n</g>\n<!-- 4567604752 -->\n<g class=\"node\" id=\"node2\">\n<title>4567604752</title>\n<ellipse cx=\"27\" cy=\"-234\" fill=\"none\" rx=\"18\" ry=\"18\" stroke=\"black\"/>\n<text font-family=\"Times,serif\" font-size=\"14.00\" text-anchor=\"middle\" x=\"27\" y=\"-230.3\">.</text>\n</g>\n<!-- 4567604944&#45;&gt;4567604752 -->\n<g class=\"edge\" id=\"edge6\">\n<title>4567604944-&gt;4567604752</title>\n<path d=\"M44.67,-288.76C41.98,-280.58 38.65,-270.45 35.61,-261.2\" fill=\"none\" stroke=\"black\"/>\n<polygon fill=\"black\" points=\"38.91,-260.04 32.47,-251.63 32.26,-262.23 38.91,-260.04\" stroke=\"black\"/>\n</g>\n<!-- 4567602192 -->\n<g class=\"node\" id=\"node3\">\n<title>4567602192</title>\n<ellipse cx=\"27\" cy=\"-162\" fill=\"none\" rx=\"18\" ry=\"18\" stroke=\"black\"/>\n<text font-family=\"Times,serif\" font-size=\"14.00\" text-anchor=\"middle\" x=\"27\" y=\"-158.3\">*</text>\n</g>\n<!-- 4567604944&#45;&gt;4567602192 -->\n<g class=\"edge\" id=\"edge7\">\n<title>4567604944-&gt;4567602192</title>\n<path d=\"M53.47,-288.34C56.61,-270.25 59.92,-240.67 54,-216 51.53,-205.72 46.72,-195.18 41.83,-186.23\" fill=\"none\" stroke=\"black\"/>\n<polygon fill=\"black\" points=\"44.85,-184.46 36.8,-177.57 38.79,-187.97 44.85,-184.46\" stroke=\"black\"/>\n</g>\n<!-- 4567604752&#45;&gt;4567602192 -->\n<g class=\"edge\" id=\"edge4\">\n<title>4567604752-&gt;4567602192</title>\n<path d=\"M27,-215.7C27,-207.98 27,-198.71 27,-190.11\" fill=\"none\" stroke=\"black\"/>\n<polygon fill=\"black\" points=\"30.5,-190.1 27,-180.1 23.5,-190.1 30.5,-190.1\" stroke=\"black\"/>\n</g>\n<!-- 4567602320 -->\n<g class=\"node\" id=\"node5\">\n<title>4567602320</title>\n<text font-family=\"Times,serif\" font-size=\"14.00\" text-anchor=\"middle\" x=\"27\" y=\"-14.3\">a</text>\n</g>\n<!-- 4567604752&#45;&gt;4567602320 -->\n<g class=\"edge\" id=\"edge5\">\n<title>4567604752-&gt;4567602320</title>\n<path d=\"M36.8,-218.43C43.09,-208.18 50.67,-193.86 54,-180 65.2,-133.33 65.2,-118.67 54,-72 51.79,-62.81 47.71,-53.41 43.38,-45.13\" fill=\"none\" stroke=\"black\"/>\n<polygon fill=\"black\" points=\"46.4,-43.36 38.47,-36.33 40.28,-46.77 46.4,-43.36\" stroke=\"black\"/>\n</g>\n<!-- 4567602768 -->\n<g class=\"node\" id=\"node4\">\n<title>4567602768</title>\n<ellipse cx=\"27\" cy=\"-90\" fill=\"none\" rx=\"18\" ry=\"18\" stroke=\"black\"/>\n<text font-family=\"Times,serif\" font-size=\"14.00\" text-anchor=\"middle\" x=\"27\" y=\"-86.3\">.</text>\n</g>\n<!-- 4567602192&#45;&gt;4567602768 -->\n<g class=\"edge\" id=\"edge3\">\n<title>4567602192-&gt;4567602768</title>\n<path d=\"M27,-143.7C27,-135.98 27,-126.71 27,-118.11\" fill=\"none\" stroke=\"black\"/>\n<polygon fill=\"black\" points=\"30.5,-118.1 27,-108.1 23.5,-118.1 30.5,-118.1\" stroke=\"black\"/>\n</g>\n<!-- 4567602768&#45;&gt;4567602320 -->\n<g class=\"edge\" id=\"edge1\">\n<title>4567602768-&gt;4567602320</title>\n<path d=\"M27,-71.7C27,-63.98 27,-54.71 27,-46.11\" fill=\"none\" stroke=\"black\"/>\n<polygon fill=\"black\" points=\"30.5,-46.1 27,-36.1 23.5,-46.1 30.5,-46.1\" stroke=\"black\"/>\n</g>\n<!-- 4567604624 -->\n<g class=\"node\" id=\"node6\">\n<title>4567604624</title>\n<text font-family=\"Times,serif\" font-size=\"14.00\" text-anchor=\"middle\" x=\"99\" y=\"-14.3\">b</text>\n</g>\n<!-- 4567602768&#45;&gt;4567604624 -->\n<g class=\"edge\" id=\"edge2\">\n<title>4567602768-&gt;4567604624</title>\n<path d=\"M39.54,-76.81C49.06,-67.55 62.45,-54.53 74.12,-43.19\" fill=\"none\" stroke=\"black\"/>\n<polygon fill=\"black\" points=\"76.75,-45.51 81.48,-36.03 71.87,-40.5 76.75,-45.51\" stroke=\"black\"/>\n</g>\n</g>\n</svg>",
      "text/plain": [
       "<IPython.core.display.SVG object>"
      ]
     },
     "metadata": {}
    }
   ],
   "metadata": {}
  }
 ],
 "metadata": {
  "orig_nbformat": 4,
  "language_info": {
   "mimetype": "text/x-python",
   "nbconvert_exporter": "python",
   "name": "python",
   "pygments_lexer": "ipython2",
   "version": "2.7.16",
   "file_extension": ".py",
   "codemirror_mode": {
    "version": 2,
    "name": "ipython"
   }
  },
  "kernelspec": {
   "name": "python3",
   "display_name": "Python 2.7.16 64-bit"
  },
  "interpreter": {
   "hash": "767d51c1340bd893661ea55ea3124f6de3c7a262a8b4abca0554b478b1e2ff90"
  }
 },
 "nbformat": 4,
 "nbformat_minor": 2
}