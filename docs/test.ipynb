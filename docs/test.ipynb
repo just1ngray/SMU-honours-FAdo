{
 "cells": [
  {
   "cell_type": "code",
   "execution_count": 3,
   "source": [
    "from FAdo import reex\n",
    "\n",
    "re = reex.star(reex.disj(reex.atom(\"a\"), reex.atom(\"b\")))\n",
    "nfa = re.toNFA(\"nfaGlushkov\")\n",
    "nfa.display()\n",
    "print nfa.witness()\n",
    "\n"
   ],
   "outputs": [
    {
     "output_type": "stream",
     "name": "stdout",
     "text": [
      "@epsilon\n"
     ]
    }
   ],
   "metadata": {}
  }
 ],
 "metadata": {
  "orig_nbformat": 4,
  "language_info": {
   "mimetype": "text/x-python",
   "nbconvert_exporter": "python",
   "name": "python",
   "pygments_lexer": "ipython2",
   "version": "2.7.16",
   "file_extension": ".py",
   "codemirror_mode": {
    "version": 2,
    "name": "ipython"
   }
  },
  "kernelspec": {
   "name": "python3",
   "display_name": "Python 2.7.16 64-bit"
  },
  "interpreter": {
   "hash": "767d51c1340bd893661ea55ea3124f6de3c7a262a8b4abca0554b478b1e2ff90"
  }
 },
 "nbformat": 4,
 "nbformat_minor": 2
}