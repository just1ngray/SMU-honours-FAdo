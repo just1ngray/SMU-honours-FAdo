{
 "metadata": {
  "language_info": {
   "codemirror_mode": {
    "name": "ipython",
    "version": 3
   },
   "file_extension": ".py",
   "mimetype": "text/x-python",
   "name": "python",
   "nbconvert_exporter": "python",
   "pygments_lexer": "ipython3",
   "version": "2.7.16"
  },
  "orig_nbformat": 4,
  "kernelspec": {
   "name": "python3",
   "display_name": "Python 2.7.16 64-bit"
  },
  "interpreter": {
   "hash": "767d51c1340bd893661ea55ea3124f6de3c7a262a8b4abca0554b478b1e2ff90"
  }
 },
 "nbformat": 4,
 "nbformat_minor": 2,
 "cells": [
  {
   "source": [
    "import re\n",
    "\n",
    "def search(expr, word):\n",
    "    res = re.search(expr, word)\n",
    "    if res is not None:\n",
    "        print \" \", expr, \"matches word\", word, \":\", res.group(0)\n",
    "    else: print \"X\", expr, \"doesn't match\", word\n",
    "\n",
    "search(\"\", \"any word\")"
   ],
   "cell_type": "code",
   "metadata": {},
   "execution_count": 2,
   "outputs": [
    {
     "output_type": "stream",
     "name": "stdout",
     "text": [
      "   matches word any word : \n"
     ]
    }
   ]
  },
  {
   "cell_type": "code",
   "execution_count": 3,
   "metadata": {},
   "outputs": [
    {
     "output_type": "stream",
     "name": "stdout",
     "text": [
      "  ^abc$ matches word abc : abc\nX ^abc$ doesn't match     abc    \nX ^abc$ doesn't match 00abcdef\nX ^abc$ doesn't match ab\n\n  abc matches word abc : abc\n  abc matches word     abc     : abc\n  abc matches word 00abcdef : abc\nX abc doesn't match ab\n"
     ]
    }
   ],
   "source": [
    "# concatenation case - easy\n",
    "exactlyEq = \"^abc$\"\n",
    "search(exactlyEq, \"abc\")\n",
    "search(exactlyEq, \"    abc    \")\n",
    "search(exactlyEq, \"00abcdef\")\n",
    "search(exactlyEq, \"ab\")\n",
    "\n",
    "print \"\"\n",
    "\n",
    "contains = \"abc\"\n",
    "search(contains, \"abc\")\n",
    "search(contains, \"    abc    \")\n",
    "search(contains, \"00abcdef\")\n",
    "search(contains, \"ab\")"
   ]
  },
  {
   "cell_type": "code",
   "execution_count": 4,
   "metadata": {},
   "outputs": [
    {
     "output_type": "stream",
     "name": "stdout",
     "text": [
      "match 'aa' and b* only\n  ^(aa|b*)$ matches word aa : aa\n  ^(aa|b*)$ matches word bbbbbb : bbbbbb\nX ^(aa|b*)$ doesn't match b__\nX ^(aa|b*)$ doesn't match __b\nX ^(aa|b*)$ doesn't match __b__\nX ^(aa|b*)$ doesn't match aa__\nX ^(aa|b*)$ doesn't match __aa\nX ^(aa|b*)$ doesn't match __aa__\n\n=== .*(b{0}).*\n  (^aa|b*)$ matches word aa : aa\n  (^aa|b*)$ matches word bbbbbb : bbbbbb\n  (^aa|b*)$ matches word b__ : \n  (^aa|b*)$ matches word __b : b\n  (^aa|b*)$ matches word __b__ : \n  (^aa|b*)$ matches word aa__ : \n  (^aa|b*)$ matches word __aa : \n  (^aa|b*)$ matches word __aa__ : \n\n=== (b{0}).*\n  (^aa$|^b*) matches word aa : aa\n  (^aa$|^b*) matches word bbbbbb : bbbbbb\n  (^aa$|^b*) matches word b__ : b\n  (^aa$|^b*) matches word __b : \n  (^aa$|^b*) matches word __b__ : \n  (^aa$|^b*) matches word aa__ : \n  (^aa$|^b*) matches word __aa : \n  (^aa$|^b*) matches word __aa__ : \n\n=== ^(aa|b*)$\n  (^aa$|^b*$) matches word aa : aa\n  (^aa$|^b*$) matches word bbbbbb : bbbbbb\nX (^aa$|^b*$) doesn't match b__\nX (^aa$|^b*$) doesn't match __b\nX (^aa$|^b*$) doesn't match __b__\nX (^aa$|^b*$) doesn't match aa__\nX (^aa$|^b*$) doesn't match __aa\nX (^aa$|^b*$) doesn't match __aa__\n"
     ]
    }
   ],
   "source": [
    "# disjunction\n",
    "\n",
    "print \"match 'aa' and b* only\"\n",
    "expr = \"^(aa|b*)$\"\n",
    "search(expr, \"aa\")\n",
    "search(expr, \"bbbbbb\")\n",
    "search(expr, \"b__\")\n",
    "search(expr, \"__b\")\n",
    "search(expr, \"__b__\")\n",
    "search(expr, \"aa__\")\n",
    "search(expr, \"__aa\")\n",
    "search(expr, \"__aa__\")\n",
    "\n",
    "print \"\\n=== .*(b{0}).*\"\n",
    "expr = \"(^aa|b*)$\"\n",
    "search(expr, \"aa\")\n",
    "search(expr, \"bbbbbb\")\n",
    "search(expr, \"b__\")\n",
    "search(expr, \"__b\")\n",
    "search(expr, \"__b__\")\n",
    "search(expr, \"aa__\")\n",
    "search(expr, \"__aa\")\n",
    "search(expr, \"__aa__\")\n",
    "\n",
    "print \"\\n=== (b{0}).*\"\n",
    "expr = \"(^aa$|^b*)\"\n",
    "search(expr, \"aa\")\n",
    "search(expr, \"bbbbbb\")\n",
    "search(expr, \"b__\")\n",
    "search(expr, \"__b\")\n",
    "search(expr, \"__b__\")\n",
    "search(expr, \"aa__\")\n",
    "search(expr, \"__aa\")\n",
    "search(expr, \"__aa__\")\n",
    "\n",
    "print \"\\n=== ^(aa|b*)$\"\n",
    "expr = \"(^aa$|^b*$)\"\n",
    "search(expr, \"aa\")\n",
    "search(expr, \"bbbbbb\")\n",
    "search(expr, \"b__\")\n",
    "search(expr, \"__b\")\n",
    "search(expr, \"__b__\")\n",
    "search(expr, \"aa__\")\n",
    "search(expr, \"__aa\")\n",
    "search(expr, \"__aa__\")"
   ]
  },
  {
   "cell_type": "code",
   "execution_count": 5,
   "metadata": {},
   "outputs": [
    {
     "output_type": "stream",
     "name": "stdout",
     "text": [
      "take 0 ==> .*(a{0}).*\n  (^a$)* matches word a : a\n  (^a$)* matches word aaaaa : \n  (^a$)* matches word baaaa : \n  (^a$)* matches word aaaab : \n  (^a$)* matches word baaab : \n\ntake 0 ==> .*(a{0})\n  (^a)*$ matches word a : a\n  (^a)*$ matches word aaaaa : \n  (^a)*$ matches word baaaa : \n  (^a)*$ matches word aaaab : \n  (^a)*$ matches word baaab : \n\ntake 0 ==> (a{0}).*\n  ^(a$)* matches word a : a\n  ^(a$)* matches word aaaaa : \n  ^(a$)* matches word baaaa : \n  ^(a$)* matches word aaaab : \n  ^(a$)* matches word baaab : \n\nconcat ==> (a*)\n  ^(a)*$ matches word a : a\n  ^(a)*$ matches word aaaaa : aaaaa\nX ^(a)*$ doesn't match baaaa\nX ^(a)*$ doesn't match aaaab\nX ^(a)*$ doesn't match baaab\n\ntricky: only matches 'ε' and 'a'\n  ^(^a$)*$ matches word  : \n  ^(^a$)*$ matches word a : a\nX ^(^a$)*$ doesn't match aaaaa\nX ^(^a$)*$ doesn't match baaaa\nX ^(^a$)*$ doesn't match aaaab\nX ^(^a$)*$ doesn't match baaab\n\ntricky: only matches 'ε' and 'a'\n  ^(^a)*$ matches word  : \n  ^(^a)*$ matches word a : a\nX ^(^a)*$ doesn't match aaaaa\nX ^(^a)*$ doesn't match baaaa\nX ^(^a)*$ doesn't match aaaab\nX ^(^a)*$ doesn't match baaab\n"
     ]
    }
   ],
   "source": [
    "# kleene star \n",
    "\n",
    "print \"take 0 ==> .*(a{0}).*\"\n",
    "expr = \"(^a$)*\"\n",
    "search(expr, \"a\")\n",
    "search(expr, \"aaaaa\")\n",
    "search(expr, \"baaaa\")\n",
    "search(expr, \"aaaab\")\n",
    "search(expr, \"baaab\")\n",
    "\n",
    "print \"\\ntake 0 ==> .*(a{0})\"\n",
    "expr = \"(^a)*$\"\n",
    "search(expr, \"a\")\n",
    "search(expr, \"aaaaa\")\n",
    "search(expr, \"baaaa\")\n",
    "search(expr, \"aaaab\")\n",
    "search(expr, \"baaab\")\n",
    "\n",
    "print \"\\ntake 0 ==> (a{0}).*\"\n",
    "expr = \"^(a$)*\"\n",
    "search(expr, \"a\")\n",
    "search(expr, \"aaaaa\")\n",
    "search(expr, \"baaaa\")\n",
    "search(expr, \"aaaab\")\n",
    "search(expr, \"baaab\")\n",
    "\n",
    "print \"\\nconcat ==> (a*)\"\n",
    "expr = \"^(a)*$\"\n",
    "search(expr, \"a\")\n",
    "search(expr, \"aaaaa\")\n",
    "search(expr, \"baaaa\")\n",
    "search(expr, \"aaaab\")\n",
    "search(expr, \"baaab\")\n",
    "\n",
    "print \"\\ntricky: only matches 'ε' and 'a'\"\n",
    "expr = \"^(^a$)*$\"\n",
    "search(expr, \"\")\n",
    "search(expr, \"a\")\n",
    "search(expr, \"aaaaa\")\n",
    "search(expr, \"baaaa\")\n",
    "search(expr, \"aaaab\")\n",
    "search(expr, \"baaab\")\n",
    "\n",
    "print \"\\ntricky: only matches 'ε' and 'a'\"\n",
    "expr = \"^(^a)*$\"\n",
    "search(expr, \"\")\n",
    "search(expr, \"a\")\n",
    "search(expr, \"aaaaa\")\n",
    "search(expr, \"baaaa\")\n",
    "search(expr, \"aaaab\")\n",
    "search(expr, \"baaab\")"
   ]
  }
 ]
}